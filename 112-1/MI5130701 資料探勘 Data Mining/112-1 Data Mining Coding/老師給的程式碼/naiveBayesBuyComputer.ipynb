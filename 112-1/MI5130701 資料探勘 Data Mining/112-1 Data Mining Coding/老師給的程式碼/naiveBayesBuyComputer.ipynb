{
 "cells": [
  {
   "cell_type": "code",
   "execution_count": 15,
   "id": "dfcb8ea6",
   "metadata": {},
   "outputs": [
    {
     "name": "stdout",
     "output_type": "stream",
     "text": [
      "[3]\n"
     ]
    }
   ],
   "source": [
    "import numpy as np\n",
    "rng = np.random.RandomState(1)\n",
    "X = rng.randint(5, size=(6, 100))\n",
    "y = np.array([1, 2, 3, 4, 5, 6])\n",
    "from sklearn.naive_bayes import CategoricalNB\n",
    "clf = CategoricalNB()\n",
    "clf.fit(X, y)\n",
    "#X.shape\n",
    "print(clf.predict(X[2:3]))"
   ]
  },
  {
   "cell_type": "code",
   "execution_count": 17,
   "id": "59add55c",
   "metadata": {
    "scrolled": true
   },
   "outputs": [
    {
     "data": {
      "text/html": [
       "<div>\n",
       "<style scoped>\n",
       "    .dataframe tbody tr th:only-of-type {\n",
       "        vertical-align: middle;\n",
       "    }\n",
       "\n",
       "    .dataframe tbody tr th {\n",
       "        vertical-align: top;\n",
       "    }\n",
       "\n",
       "    .dataframe thead th {\n",
       "        text-align: right;\n",
       "    }\n",
       "</style>\n",
       "<table border=\"1\" class=\"dataframe\">\n",
       "  <thead>\n",
       "    <tr style=\"text-align: right;\">\n",
       "      <th></th>\n",
       "      <th>agelevel</th>\n",
       "      <th>income</th>\n",
       "      <th>student</th>\n",
       "      <th>credit</th>\n",
       "      <th>BuyComputer</th>\n",
       "    </tr>\n",
       "  </thead>\n",
       "  <tbody>\n",
       "    <tr>\n",
       "      <th>0</th>\n",
       "      <td>young</td>\n",
       "      <td>high</td>\n",
       "      <td>no</td>\n",
       "      <td>fair</td>\n",
       "      <td>no</td>\n",
       "    </tr>\n",
       "    <tr>\n",
       "      <th>1</th>\n",
       "      <td>young</td>\n",
       "      <td>high</td>\n",
       "      <td>no</td>\n",
       "      <td>excellent</td>\n",
       "      <td>no</td>\n",
       "    </tr>\n",
       "    <tr>\n",
       "      <th>2</th>\n",
       "      <td>middle</td>\n",
       "      <td>high</td>\n",
       "      <td>no</td>\n",
       "      <td>fair</td>\n",
       "      <td>yes</td>\n",
       "    </tr>\n",
       "    <tr>\n",
       "      <th>3</th>\n",
       "      <td>senior</td>\n",
       "      <td>medium</td>\n",
       "      <td>no</td>\n",
       "      <td>fair</td>\n",
       "      <td>yes</td>\n",
       "    </tr>\n",
       "    <tr>\n",
       "      <th>4</th>\n",
       "      <td>senior</td>\n",
       "      <td>low</td>\n",
       "      <td>yes</td>\n",
       "      <td>fair</td>\n",
       "      <td>yes</td>\n",
       "    </tr>\n",
       "  </tbody>\n",
       "</table>\n",
       "</div>"
      ],
      "text/plain": [
       "  agelevel  income student     credit BuyComputer\n",
       "0    young    high      no       fair          no\n",
       "1    young    high      no  excellent          no\n",
       "2   middle    high      no       fair         yes\n",
       "3   senior  medium      no       fair         yes\n",
       "4   senior     low     yes       fair         yes"
      ]
     },
     "execution_count": 17,
     "metadata": {},
     "output_type": "execute_result"
    }
   ],
   "source": [
    "import numpy as np\n",
    "import pandas as pd\n",
    "from sklearn.naive_bayes import  CategoricalNB\n",
    "from sklearn.preprocessing import OrdinalEncoder, LabelEncoder\n",
    "from sklearn.metrics import accuracy_score, confusion_matrix, roc_curve, roc_auc_score, recall_score, precision_score\n",
    "from sklearn.metrics import f1_score, classification_report\n",
    "buy=pd.read_csv(\"buyComputer.csv\")\n",
    "features = buy.columns.tolist()\n",
    "features.remove('BuyComputer')\n",
    "buy.head(5)"
   ]
  },
  {
   "cell_type": "code",
   "execution_count": 18,
   "id": "7230e498",
   "metadata": {},
   "outputs": [
    {
     "data": {
      "text/plain": [
       "array([[2., 0., 0., 1.],\n",
       "       [2., 0., 0., 0.],\n",
       "       [0., 0., 0., 1.],\n",
       "       [1., 2., 0., 1.],\n",
       "       [1., 1., 1., 1.],\n",
       "       [1., 1., 1., 0.],\n",
       "       [0., 1., 1., 0.],\n",
       "       [2., 2., 0., 1.],\n",
       "       [2., 1., 1., 1.],\n",
       "       [1., 2., 1., 1.],\n",
       "       [2., 2., 1., 0.],\n",
       "       [0., 2., 0., 0.],\n",
       "       [0., 0., 1., 1.],\n",
       "       [1., 2., 0., 0.]])"
      ]
     },
     "execution_count": 18,
     "metadata": {},
     "output_type": "execute_result"
    }
   ],
   "source": [
    "encoder1 = OrdinalEncoder()\n",
    "data_encoded = encoder1.fit_transform(buy[features])\n",
    "data_encoded"
   ]
  },
  {
   "cell_type": "code",
   "execution_count": 19,
   "id": "129f9d4a",
   "metadata": {},
   "outputs": [
    {
     "data": {
      "text/plain": [
       "array([0, 0, 1, 1, 1, 0, 1, 0, 1, 1, 1, 1, 1, 0])"
      ]
     },
     "execution_count": 19,
     "metadata": {},
     "output_type": "execute_result"
    }
   ],
   "source": [
    "buy_encoded = pd.DataFrame(data_encoded, columns=features)\n",
    "\n",
    "encoder2 = LabelEncoder()\n",
    "target_encoded = encoder2.fit_transform(buy['BuyComputer'])\n",
    "#buy_encoded['Class'] = target_encoded\n",
    "#data_encoded\n",
    "target_encoded"
   ]
  },
  {
   "cell_type": "code",
   "execution_count": 20,
   "id": "600f24fb",
   "metadata": {},
   "outputs": [
    {
     "name": "stdout",
     "output_type": "stream",
     "text": [
      "0.9285714285714286\n"
     ]
    }
   ],
   "source": [
    "X_train= buy_encoded\n",
    "y_train= target_encoded\n",
    "clf = CategoricalNB()\n",
    "clf.fit(X_train, y_train)\n",
    "\n",
    "train_score = clf.score(X_train, y_train)\n",
    "print(train_score)"
   ]
  },
  {
   "cell_type": "code",
   "execution_count": 23,
   "id": "34a1cfe8",
   "metadata": {},
   "outputs": [
    {
     "data": {
      "text/plain": [
       "array([1])"
      ]
     },
     "execution_count": 23,
     "metadata": {},
     "output_type": "execute_result"
    }
   ],
   "source": [
    "#%% preparing X_test\n",
    "buy1=pd.read_csv(\"buyComputer1.csv\")\n",
    "features = buy1.columns.tolist()\n",
    "features.remove('BuyComputer')\n",
    "# note that only transform no fit in the following code\n",
    "data_encoded = encoder1.transform(buy1[features])\n",
    "X_test = pd.DataFrame(data_encoded, columns=features)\n",
    "clf.predict(X_test)\n",
    "#buy1"
   ]
  },
  {
   "cell_type": "code",
   "execution_count": null,
   "id": "2cd9e63c",
   "metadata": {},
   "outputs": [],
   "source": []
  }
 ],
 "metadata": {
  "kernelspec": {
   "display_name": "Python 3",
   "language": "python",
   "name": "python3"
  },
  "language_info": {
   "codemirror_mode": {
    "name": "ipython",
    "version": 3
   },
   "file_extension": ".py",
   "mimetype": "text/x-python",
   "name": "python",
   "nbconvert_exporter": "python",
   "pygments_lexer": "ipython3",
   "version": "3.8.8"
  }
 },
 "nbformat": 4,
 "nbformat_minor": 5
}
