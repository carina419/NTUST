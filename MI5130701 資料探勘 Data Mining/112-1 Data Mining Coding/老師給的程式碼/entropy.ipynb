{
 "cells": [
  {
   "cell_type": "code",
   "execution_count": 1,
   "id": "ad30c1f7",
   "metadata": {},
   "outputs": [],
   "source": [
    "import numpy as np    \n",
    "\n",
    "def LI2(i, j):\n",
    "    \"\"\"node dist. function\"\"\"\n",
    "#    \n",
    "#   \n",
    "    p = i/(i +j)\n",
    "    q=1-p\n",
    "    if p > 0 and q > 0:\n",
    "        result=(-p)*np.log2(p) + (-q)*np.log2(q)\n",
    "    else:\n",
    "        result=0\n",
    "    return result\n",
    "    \n",
    "def LI3(i,j,k):\n",
    "        p=i/(i+j+k)\n",
    "        q=j/(i+j+k)\n",
    "        r=k/(i+j+k)\n",
    "        result = -p*np.log2(p)-q*np.log2(q)-r*np.log2(r)\n",
    "        return result"
   ]
  },
  {
   "cell_type": "code",
   "execution_count": 2,
   "id": "2cd18cc1",
   "metadata": {},
   "outputs": [
    {
     "name": "stdout",
     "output_type": "stream",
     "text": [
      "0\n"
     ]
    }
   ],
   "source": [
    "print(LI2(4,0))"
   ]
  },
  {
   "cell_type": "code",
   "execution_count": 3,
   "id": "115fea46",
   "metadata": {},
   "outputs": [
    {
     "name": "stdout",
     "output_type": "stream",
     "text": [
      "0.6935361388961918\n"
     ]
    }
   ],
   "source": [
    "print(5/7*LI2(2,3))"
   ]
  },
  {
   "cell_type": "code",
   "execution_count": 4,
   "id": "e4098c74",
   "metadata": {},
   "outputs": [
    {
     "name": "stdout",
     "output_type": "stream",
     "text": [
      "0.8112781244591328\n"
     ]
    }
   ],
   "source": [
    "print(LI2(3,1))"
   ]
  },
  {
   "cell_type": "code",
   "execution_count": 5,
   "id": "02dd224c",
   "metadata": {},
   "outputs": [
    {
     "name": "stdout",
     "output_type": "stream",
     "text": [
      "0.9108571428571428\n"
     ]
    }
   ],
   "source": [
    "print((4+6*0.918+4*0.811)/14)"
   ]
  }
 ],
 "metadata": {
  "kernelspec": {
   "display_name": "Python 3",
   "language": "python",
   "name": "python3"
  },
  "language_info": {
   "codemirror_mode": {
    "name": "ipython",
    "version": 3
   },
   "file_extension": ".py",
   "mimetype": "text/x-python",
   "name": "python",
   "nbconvert_exporter": "python",
   "pygments_lexer": "ipython3",
   "version": "3.8.8"
  }
 },
 "nbformat": 4,
 "nbformat_minor": 5
}
