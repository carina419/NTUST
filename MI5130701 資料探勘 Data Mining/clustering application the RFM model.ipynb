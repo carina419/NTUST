{
 "cells": [
  {
   "cell_type": "code",
   "execution_count": 1,
   "metadata": {
    "id": "djja2-pqMxUX"
   },
   "outputs": [],
   "source": [
    "import pandas as pd\n",
    "import numpy as np\n",
    "import matplotlib.pyplot as plt         \n",
    "from sklearn.cluster import KMeans"
   ]
  },
  {
   "cell_type": "code",
   "execution_count": 3,
   "metadata": {
    "id": "I-IxAI9uP-_x"
   },
   "outputs": [],
   "source": [
    "rfm = pd.read_csv('clustering_Ex1.csv')"
   ]
  },
  {
   "cell_type": "code",
   "execution_count": 4,
   "metadata": {
    "colab": {
     "base_uri": "https://localhost:8080/"
    },
    "executionInfo": {
     "elapsed": 19,
     "status": "ok",
     "timestamp": 1644760261427,
     "user": {
      "displayName": "Chen-Yao Chung",
      "photoUrl": "https://lh3.googleusercontent.com/a/default-user=s64",
      "userId": "16870777617936090918"
     },
     "user_tz": -480
    },
    "id": "UFVihJsSDHGk",
    "outputId": "5c176369-f83c-446d-9846-81f9a06dc73e"
   },
   "outputs": [
    {
     "data": {
      "text/plain": [
       "pandas.core.frame.DataFrame"
      ]
     },
     "execution_count": 4,
     "metadata": {},
     "output_type": "execute_result"
    }
   ],
   "source": [
    "type(rfm)"
   ]
  },
  {
   "cell_type": "code",
   "execution_count": 5,
   "metadata": {
    "colab": {
     "base_uri": "https://localhost:8080/",
     "height": 423
    },
    "executionInfo": {
     "elapsed": 14,
     "status": "ok",
     "timestamp": 1644760262558,
     "user": {
      "displayName": "Chen-Yao Chung",
      "photoUrl": "https://lh3.googleusercontent.com/a/default-user=s64",
      "userId": "16870777617936090918"
     },
     "user_tz": -480
    },
    "id": "wDuCQvF-D0d8",
    "outputId": "af10ed0e-3c8e-4469-8cbd-fd23b669c6a7"
   },
   "outputs": [
    {
     "data": {
      "text/html": [
       "<div>\n",
       "<style scoped>\n",
       "    .dataframe tbody tr th:only-of-type {\n",
       "        vertical-align: middle;\n",
       "    }\n",
       "\n",
       "    .dataframe tbody tr th {\n",
       "        vertical-align: top;\n",
       "    }\n",
       "\n",
       "    .dataframe thead th {\n",
       "        text-align: right;\n",
       "    }\n",
       "</style>\n",
       "<table border=\"1\" class=\"dataframe\">\n",
       "  <thead>\n",
       "    <tr style=\"text-align: right;\">\n",
       "      <th></th>\n",
       "      <th>cid</th>\n",
       "      <th>gender</th>\n",
       "      <th>R</th>\n",
       "      <th>F</th>\n",
       "      <th>M</th>\n",
       "    </tr>\n",
       "  </thead>\n",
       "  <tbody>\n",
       "    <tr>\n",
       "      <th>0</th>\n",
       "      <td>0S3670071489</td>\n",
       "      <td>F</td>\n",
       "      <td>586</td>\n",
       "      <td>1</td>\n",
       "      <td>1380</td>\n",
       "    </tr>\n",
       "    <tr>\n",
       "      <th>1</th>\n",
       "      <td>0S3687895473</td>\n",
       "      <td>M</td>\n",
       "      <td>12</td>\n",
       "      <td>1</td>\n",
       "      <td>1186</td>\n",
       "    </tr>\n",
       "    <tr>\n",
       "      <th>2</th>\n",
       "      <td>0S3690675977</td>\n",
       "      <td>F</td>\n",
       "      <td>75</td>\n",
       "      <td>2</td>\n",
       "      <td>2850</td>\n",
       "    </tr>\n",
       "    <tr>\n",
       "      <th>3</th>\n",
       "      <td>2009S2044237</td>\n",
       "      <td>F</td>\n",
       "      <td>657</td>\n",
       "      <td>1</td>\n",
       "      <td>1099</td>\n",
       "    </tr>\n",
       "    <tr>\n",
       "      <th>4</th>\n",
       "      <td>2009S2044261</td>\n",
       "      <td>M</td>\n",
       "      <td>145</td>\n",
       "      <td>1</td>\n",
       "      <td>1360</td>\n",
       "    </tr>\n",
       "    <tr>\n",
       "      <th>...</th>\n",
       "      <td>...</td>\n",
       "      <td>...</td>\n",
       "      <td>...</td>\n",
       "      <td>...</td>\n",
       "      <td>...</td>\n",
       "    </tr>\n",
       "    <tr>\n",
       "      <th>43667</th>\n",
       "      <td>S201S242852053</td>\n",
       "      <td>F</td>\n",
       "      <td>211</td>\n",
       "      <td>1</td>\n",
       "      <td>678</td>\n",
       "    </tr>\n",
       "    <tr>\n",
       "      <th>43668</th>\n",
       "      <td>S201S280812053</td>\n",
       "      <td>F</td>\n",
       "      <td>109</td>\n",
       "      <td>2</td>\n",
       "      <td>3120</td>\n",
       "    </tr>\n",
       "    <tr>\n",
       "      <th>43669</th>\n",
       "      <td>S201S280816053</td>\n",
       "      <td>M</td>\n",
       "      <td>313</td>\n",
       "      <td>1</td>\n",
       "      <td>780</td>\n",
       "    </tr>\n",
       "    <tr>\n",
       "      <th>43670</th>\n",
       "      <td>S201S280840053</td>\n",
       "      <td>M</td>\n",
       "      <td>33</td>\n",
       "      <td>1</td>\n",
       "      <td>150</td>\n",
       "    </tr>\n",
       "    <tr>\n",
       "      <th>43671</th>\n",
       "      <td>S201S282920053</td>\n",
       "      <td>F</td>\n",
       "      <td>24</td>\n",
       "      <td>2</td>\n",
       "      <td>2590</td>\n",
       "    </tr>\n",
       "  </tbody>\n",
       "</table>\n",
       "<p>43672 rows × 5 columns</p>\n",
       "</div>"
      ],
      "text/plain": [
       "                  cid gender    R  F     M\n",
       "0        0S3670071489      F  586  1  1380\n",
       "1        0S3687895473      M   12  1  1186\n",
       "2        0S3690675977      F   75  2  2850\n",
       "3        2009S2044237      F  657  1  1099\n",
       "4        2009S2044261      M  145  1  1360\n",
       "...               ...    ...  ... ..   ...\n",
       "43667  S201S242852053      F  211  1   678\n",
       "43668  S201S280812053      F  109  2  3120\n",
       "43669  S201S280816053      M  313  1   780\n",
       "43670  S201S280840053      M   33  1   150\n",
       "43671  S201S282920053      F   24  2  2590\n",
       "\n",
       "[43672 rows x 5 columns]"
      ]
     },
     "execution_count": 5,
     "metadata": {},
     "output_type": "execute_result"
    }
   ],
   "source": [
    "rfm"
   ]
  },
  {
   "cell_type": "code",
   "execution_count": 5,
   "metadata": {
    "colab": {
     "base_uri": "https://localhost:8080/"
    },
    "executionInfo": {
     "elapsed": 11,
     "status": "ok",
     "timestamp": 1644760264584,
     "user": {
      "displayName": "Chen-Yao Chung",
      "photoUrl": "https://lh3.googleusercontent.com/a/default-user=s64",
      "userId": "16870777617936090918"
     },
     "user_tz": -480
    },
    "id": "rjxUfFJAFSYK",
    "outputId": "1b424b6d-211e-4ad5-ac8d-4379d3458e58"
   },
   "outputs": [
    {
     "name": "stdout",
     "output_type": "stream",
     "text": [
      "<class 'pandas.core.frame.DataFrame'>\n",
      "RangeIndex: 43672 entries, 0 to 43671\n",
      "Data columns (total 5 columns):\n",
      " #   Column  Non-Null Count  Dtype \n",
      "---  ------  --------------  ----- \n",
      " 0   cid     43672 non-null  object\n",
      " 1   gender  43672 non-null  object\n",
      " 2   R       43672 non-null  int64 \n",
      " 3   F       43672 non-null  int64 \n",
      " 4   M       43672 non-null  int64 \n",
      "dtypes: int64(3), object(2)\n",
      "memory usage: 1.7+ MB\n"
     ]
    }
   ],
   "source": [
    "rfm.info()"
   ]
  },
  {
   "cell_type": "code",
   "execution_count": 6,
   "metadata": {
    "colab": {
     "base_uri": "https://localhost:8080/"
    },
    "executionInfo": {
     "elapsed": 7,
     "status": "ok",
     "timestamp": 1644760267586,
     "user": {
      "displayName": "Chen-Yao Chung",
      "photoUrl": "https://lh3.googleusercontent.com/a/default-user=s64",
      "userId": "16870777617936090918"
     },
     "user_tz": -480
    },
    "id": "fwSX7CtFGik-",
    "outputId": "c10f7c81-ca86-4d8c-f6c7-3a9fcebfc5bc"
   },
   "outputs": [
    {
     "name": "stdout",
     "output_type": "stream",
     "text": [
      "         R  F     M\n",
      "0      586  1  1380\n",
      "1       12  1  1186\n",
      "2       75  2  2850\n",
      "3      657  1  1099\n",
      "4      145  1  1360\n",
      "...    ... ..   ...\n",
      "43667  211  1   678\n",
      "43668  109  2  3120\n",
      "43669  313  1   780\n",
      "43670   33  1   150\n",
      "43671   24  2  2590\n",
      "\n",
      "[43672 rows x 3 columns]\n"
     ]
    }
   ],
   "source": [
    "data = rfm.iloc[:, 2:5]\n",
    "print(data)"
   ]
  },
  {
   "cell_type": "code",
   "execution_count": 7,
   "metadata": {
    "colab": {
     "base_uri": "https://localhost:8080/",
     "height": 206
    },
    "executionInfo": {
     "elapsed": 8,
     "status": "ok",
     "timestamp": 1644760268729,
     "user": {
      "displayName": "Chen-Yao Chung",
      "photoUrl": "https://lh3.googleusercontent.com/a/default-user=s64",
      "userId": "16870777617936090918"
     },
     "user_tz": -480
    },
    "id": "K2LJm2b-Klks",
    "outputId": "5b5610f3-f491-44a3-e394-6e7227d0d6d9"
   },
   "outputs": [
    {
     "data": {
      "text/html": [
       "<div>\n",
       "<style scoped>\n",
       "    .dataframe tbody tr th:only-of-type {\n",
       "        vertical-align: middle;\n",
       "    }\n",
       "\n",
       "    .dataframe tbody tr th {\n",
       "        vertical-align: top;\n",
       "    }\n",
       "\n",
       "    .dataframe thead th {\n",
       "        text-align: right;\n",
       "    }\n",
       "</style>\n",
       "<table border=\"1\" class=\"dataframe\">\n",
       "  <thead>\n",
       "    <tr style=\"text-align: right;\">\n",
       "      <th></th>\n",
       "      <th>R</th>\n",
       "      <th>F</th>\n",
       "      <th>M</th>\n",
       "    </tr>\n",
       "  </thead>\n",
       "  <tbody>\n",
       "    <tr>\n",
       "      <th>0</th>\n",
       "      <td>586</td>\n",
       "      <td>1</td>\n",
       "      <td>1380</td>\n",
       "    </tr>\n",
       "    <tr>\n",
       "      <th>1</th>\n",
       "      <td>12</td>\n",
       "      <td>1</td>\n",
       "      <td>1186</td>\n",
       "    </tr>\n",
       "    <tr>\n",
       "      <th>2</th>\n",
       "      <td>75</td>\n",
       "      <td>2</td>\n",
       "      <td>2850</td>\n",
       "    </tr>\n",
       "    <tr>\n",
       "      <th>3</th>\n",
       "      <td>657</td>\n",
       "      <td>1</td>\n",
       "      <td>1099</td>\n",
       "    </tr>\n",
       "    <tr>\n",
       "      <th>4</th>\n",
       "      <td>145</td>\n",
       "      <td>1</td>\n",
       "      <td>1360</td>\n",
       "    </tr>\n",
       "  </tbody>\n",
       "</table>\n",
       "</div>"
      ],
      "text/plain": [
       "     R  F     M\n",
       "0  586  1  1380\n",
       "1   12  1  1186\n",
       "2   75  2  2850\n",
       "3  657  1  1099\n",
       "4  145  1  1360"
      ]
     },
     "execution_count": 7,
     "metadata": {},
     "output_type": "execute_result"
    }
   ],
   "source": [
    "#另一種選擇欄位的方法\n",
    "df = rfm[['R', 'F', 'M']]\n",
    "df.head()"
   ]
  },
  {
   "cell_type": "code",
   "execution_count": 8,
   "metadata": {
    "colab": {
     "base_uri": "https://localhost:8080/",
     "height": 300
    },
    "executionInfo": {
     "elapsed": 8,
     "status": "ok",
     "timestamp": 1644760270304,
     "user": {
      "displayName": "Chen-Yao Chung",
      "photoUrl": "https://lh3.googleusercontent.com/a/default-user=s64",
      "userId": "16870777617936090918"
     },
     "user_tz": -480
    },
    "id": "CYI1_GHXTDQX",
    "outputId": "d6ad3ee1-504a-47bb-f63f-0ec7564a60b1"
   },
   "outputs": [
    {
     "data": {
      "text/html": [
       "<div>\n",
       "<style scoped>\n",
       "    .dataframe tbody tr th:only-of-type {\n",
       "        vertical-align: middle;\n",
       "    }\n",
       "\n",
       "    .dataframe tbody tr th {\n",
       "        vertical-align: top;\n",
       "    }\n",
       "\n",
       "    .dataframe thead th {\n",
       "        text-align: right;\n",
       "    }\n",
       "</style>\n",
       "<table border=\"1\" class=\"dataframe\">\n",
       "  <thead>\n",
       "    <tr style=\"text-align: right;\">\n",
       "      <th></th>\n",
       "      <th>R</th>\n",
       "      <th>F</th>\n",
       "      <th>M</th>\n",
       "    </tr>\n",
       "  </thead>\n",
       "  <tbody>\n",
       "    <tr>\n",
       "      <th>count</th>\n",
       "      <td>43672.000000</td>\n",
       "      <td>43672.000000</td>\n",
       "      <td>43672.000000</td>\n",
       "    </tr>\n",
       "    <tr>\n",
       "      <th>mean</th>\n",
       "      <td>312.230560</td>\n",
       "      <td>1.788835</td>\n",
       "      <td>2595.994298</td>\n",
       "    </tr>\n",
       "    <tr>\n",
       "      <th>std</th>\n",
       "      <td>197.701405</td>\n",
       "      <td>2.262211</td>\n",
       "      <td>4945.038093</td>\n",
       "    </tr>\n",
       "    <tr>\n",
       "      <th>min</th>\n",
       "      <td>1.000000</td>\n",
       "      <td>1.000000</td>\n",
       "      <td>29.000000</td>\n",
       "    </tr>\n",
       "    <tr>\n",
       "      <th>25%</th>\n",
       "      <td>141.000000</td>\n",
       "      <td>1.000000</td>\n",
       "      <td>870.000000</td>\n",
       "    </tr>\n",
       "    <tr>\n",
       "      <th>50%</th>\n",
       "      <td>296.000000</td>\n",
       "      <td>1.000000</td>\n",
       "      <td>1380.000000</td>\n",
       "    </tr>\n",
       "    <tr>\n",
       "      <th>75%</th>\n",
       "      <td>484.000000</td>\n",
       "      <td>2.000000</td>\n",
       "      <td>2580.000000</td>\n",
       "    </tr>\n",
       "    <tr>\n",
       "      <th>max</th>\n",
       "      <td>669.000000</td>\n",
       "      <td>112.000000</td>\n",
       "      <td>233136.000000</td>\n",
       "    </tr>\n",
       "  </tbody>\n",
       "</table>\n",
       "</div>"
      ],
      "text/plain": [
       "                  R             F              M\n",
       "count  43672.000000  43672.000000   43672.000000\n",
       "mean     312.230560      1.788835    2595.994298\n",
       "std      197.701405      2.262211    4945.038093\n",
       "min        1.000000      1.000000      29.000000\n",
       "25%      141.000000      1.000000     870.000000\n",
       "50%      296.000000      1.000000    1380.000000\n",
       "75%      484.000000      2.000000    2580.000000\n",
       "max      669.000000    112.000000  233136.000000"
      ]
     },
     "execution_count": 8,
     "metadata": {},
     "output_type": "execute_result"
    }
   ],
   "source": [
    "data.describe()"
   ]
  },
  {
   "cell_type": "code",
   "execution_count": 8,
   "metadata": {
    "id": "NwYWlJ8sLz4T"
   },
   "outputs": [],
   "source": [
    "#最小值最大值正規化(Min-Max Normalization)\n",
    "from sklearn.preprocessing import MinMaxScaler\n",
    "scaler = MinMaxScaler(feature_range=(0,1))"
   ]
  },
  {
   "cell_type": "code",
   "execution_count": 9,
   "metadata": {
    "colab": {
     "base_uri": "https://localhost:8080/"
    },
    "executionInfo": {
     "elapsed": 9,
     "status": "ok",
     "timestamp": 1644760273260,
     "user": {
      "displayName": "Chen-Yao Chung",
      "photoUrl": "https://lh3.googleusercontent.com/a/default-user=s64",
      "userId": "16870777617936090918"
     },
     "user_tz": -480
    },
    "id": "5I2XPgNQeGiE",
    "outputId": "ba16aea4-58e4-4fc5-8163-cc2a975c0b1e"
   },
   "outputs": [
    {
     "data": {
      "text/plain": [
       "array([[8.75748503e-01, 0.00000000e+00, 5.79562175e-03],\n",
       "       [1.64670659e-02, 0.00000000e+00, 4.96338591e-03],\n",
       "       [1.10778443e-01, 9.00900901e-03, 1.21017387e-02],\n",
       "       ...,\n",
       "       [4.67065868e-01, 0.00000000e+00, 3.22169647e-03],\n",
       "       [4.79041916e-02, 0.00000000e+00, 5.19074931e-04],\n",
       "       [3.44311377e-02, 9.00900901e-03, 1.09863711e-02]])"
      ]
     },
     "execution_count": 9,
     "metadata": {},
     "output_type": "execute_result"
    }
   ],
   "source": [
    "df_minmax = scaler.fit_transform(data.to_numpy())\n",
    "df_minmax"
   ]
  },
  {
   "cell_type": "code",
   "execution_count": 10,
   "metadata": {
    "colab": {
     "base_uri": "https://localhost:8080/",
     "height": 423
    },
    "executionInfo": {
     "elapsed": 321,
     "status": "ok",
     "timestamp": 1644760275205,
     "user": {
      "displayName": "Chen-Yao Chung",
      "photoUrl": "https://lh3.googleusercontent.com/a/default-user=s64",
      "userId": "16870777617936090918"
     },
     "user_tz": -480
    },
    "id": "UdWHLikOf9n0",
    "outputId": "814a0277-a61e-4241-cd33-c97fa2a0e5a5"
   },
   "outputs": [
    {
     "data": {
      "text/html": [
       "<div>\n",
       "<style scoped>\n",
       "    .dataframe tbody tr th:only-of-type {\n",
       "        vertical-align: middle;\n",
       "    }\n",
       "\n",
       "    .dataframe tbody tr th {\n",
       "        vertical-align: top;\n",
       "    }\n",
       "\n",
       "    .dataframe thead th {\n",
       "        text-align: right;\n",
       "    }\n",
       "</style>\n",
       "<table border=\"1\" class=\"dataframe\">\n",
       "  <thead>\n",
       "    <tr style=\"text-align: right;\">\n",
       "      <th></th>\n",
       "      <th>R</th>\n",
       "      <th>F</th>\n",
       "      <th>M</th>\n",
       "    </tr>\n",
       "  </thead>\n",
       "  <tbody>\n",
       "    <tr>\n",
       "      <th>0</th>\n",
       "      <td>0.875749</td>\n",
       "      <td>0.000000</td>\n",
       "      <td>0.005796</td>\n",
       "    </tr>\n",
       "    <tr>\n",
       "      <th>1</th>\n",
       "      <td>0.016467</td>\n",
       "      <td>0.000000</td>\n",
       "      <td>0.004963</td>\n",
       "    </tr>\n",
       "    <tr>\n",
       "      <th>2</th>\n",
       "      <td>0.110778</td>\n",
       "      <td>0.009009</td>\n",
       "      <td>0.012102</td>\n",
       "    </tr>\n",
       "    <tr>\n",
       "      <th>3</th>\n",
       "      <td>0.982036</td>\n",
       "      <td>0.000000</td>\n",
       "      <td>0.004590</td>\n",
       "    </tr>\n",
       "    <tr>\n",
       "      <th>4</th>\n",
       "      <td>0.215569</td>\n",
       "      <td>0.000000</td>\n",
       "      <td>0.005710</td>\n",
       "    </tr>\n",
       "    <tr>\n",
       "      <th>...</th>\n",
       "      <td>...</td>\n",
       "      <td>...</td>\n",
       "      <td>...</td>\n",
       "    </tr>\n",
       "    <tr>\n",
       "      <th>43667</th>\n",
       "      <td>0.314371</td>\n",
       "      <td>0.000000</td>\n",
       "      <td>0.002784</td>\n",
       "    </tr>\n",
       "    <tr>\n",
       "      <th>43668</th>\n",
       "      <td>0.161677</td>\n",
       "      <td>0.009009</td>\n",
       "      <td>0.013260</td>\n",
       "    </tr>\n",
       "    <tr>\n",
       "      <th>43669</th>\n",
       "      <td>0.467066</td>\n",
       "      <td>0.000000</td>\n",
       "      <td>0.003222</td>\n",
       "    </tr>\n",
       "    <tr>\n",
       "      <th>43670</th>\n",
       "      <td>0.047904</td>\n",
       "      <td>0.000000</td>\n",
       "      <td>0.000519</td>\n",
       "    </tr>\n",
       "    <tr>\n",
       "      <th>43671</th>\n",
       "      <td>0.034431</td>\n",
       "      <td>0.009009</td>\n",
       "      <td>0.010986</td>\n",
       "    </tr>\n",
       "  </tbody>\n",
       "</table>\n",
       "<p>43672 rows × 3 columns</p>\n",
       "</div>"
      ],
      "text/plain": [
       "              R         F         M\n",
       "0      0.875749  0.000000  0.005796\n",
       "1      0.016467  0.000000  0.004963\n",
       "2      0.110778  0.009009  0.012102\n",
       "3      0.982036  0.000000  0.004590\n",
       "4      0.215569  0.000000  0.005710\n",
       "...         ...       ...       ...\n",
       "43667  0.314371  0.000000  0.002784\n",
       "43668  0.161677  0.009009  0.013260\n",
       "43669  0.467066  0.000000  0.003222\n",
       "43670  0.047904  0.000000  0.000519\n",
       "43671  0.034431  0.009009  0.010986\n",
       "\n",
       "[43672 rows x 3 columns]"
      ]
     },
     "execution_count": 10,
     "metadata": {},
     "output_type": "execute_result"
    }
   ],
   "source": [
    "df_minmax = pd.DataFrame(df_minmax, columns = ['R', 'F', 'M'])\n",
    "df_minmax"
   ]
  },
  {
   "cell_type": "code",
   "execution_count": 11,
   "metadata": {
    "id": "5n1cToxJhlOv"
   },
   "outputs": [],
   "source": [
    "model_KMC = KMeans(n_clusters = 4, max_iter = 500, random_state = 42)"
   ]
  },
  {
   "cell_type": "code",
   "execution_count": 12,
   "metadata": {
    "colab": {
     "base_uri": "https://localhost:8080/"
    },
    "executionInfo": {
     "elapsed": 1293,
     "status": "ok",
     "timestamp": 1644760428096,
     "user": {
      "displayName": "Chen-Yao Chung",
      "photoUrl": "https://lh3.googleusercontent.com/a/default-user=s64",
      "userId": "16870777617936090918"
     },
     "user_tz": -480
    },
    "id": "oNKdhU7Bkz7L",
    "outputId": "07a5126f-a9e4-4f82-d3fe-18dca4631e33"
   },
   "outputs": [
    {
     "data": {
      "text/plain": [
       "array([1, 2, 2, ..., 0, 2, 2])"
      ]
     },
     "execution_count": 12,
     "metadata": {},
     "output_type": "execute_result"
    }
   ],
   "source": [
    "model_KMC.fit_predict(df_minmax)"
   ]
  },
  {
   "cell_type": "code",
   "execution_count": 13,
   "metadata": {
    "colab": {
     "base_uri": "https://localhost:8080/"
    },
    "executionInfo": {
     "elapsed": 417,
     "status": "ok",
     "timestamp": 1644763731315,
     "user": {
      "displayName": "Chen-Yao Chung",
      "photoUrl": "https://lh3.googleusercontent.com/a/default-user=s64",
      "userId": "16870777617936090918"
     },
     "user_tz": -480
    },
    "id": "CRXwsy8PxqUK",
    "outputId": "c59754d6-92c2-420d-feab-860b482be15d"
   },
   "outputs": [
    {
     "data": {
      "text/plain": [
       "2    12062\n",
       "0    11837\n",
       "3    10187\n",
       "1     9586\n",
       "dtype: int64"
      ]
     },
     "execution_count": 13,
     "metadata": {},
     "output_type": "execute_result"
    }
   ],
   "source": [
    "r1 = pd.Series(model_KMC.labels_).value_counts()\n",
    "r1"
   ]
  },
  {
   "cell_type": "code",
   "execution_count": 14,
   "metadata": {
    "colab": {
     "base_uri": "https://localhost:8080/",
     "height": 174
    },
    "executionInfo": {
     "elapsed": 397,
     "status": "ok",
     "timestamp": 1644764159715,
     "user": {
      "displayName": "Chen-Yao Chung",
      "photoUrl": "https://lh3.googleusercontent.com/a/default-user=s64",
      "userId": "16870777617936090918"
     },
     "user_tz": -480
    },
    "id": "4g_SgISG0EDM",
    "outputId": "12a02fed-4cb6-41fc-c810-b973a3d043d9"
   },
   "outputs": [
    {
     "data": {
      "text/html": [
       "<div>\n",
       "<style scoped>\n",
       "    .dataframe tbody tr th:only-of-type {\n",
       "        vertical-align: middle;\n",
       "    }\n",
       "\n",
       "    .dataframe tbody tr th {\n",
       "        vertical-align: top;\n",
       "    }\n",
       "\n",
       "    .dataframe thead th {\n",
       "        text-align: right;\n",
       "    }\n",
       "</style>\n",
       "<table border=\"1\" class=\"dataframe\">\n",
       "  <thead>\n",
       "    <tr style=\"text-align: right;\">\n",
       "      <th></th>\n",
       "      <th>0</th>\n",
       "      <th>1</th>\n",
       "      <th>2</th>\n",
       "    </tr>\n",
       "  </thead>\n",
       "  <tbody>\n",
       "    <tr>\n",
       "      <th>0</th>\n",
       "      <td>0.358468</td>\n",
       "      <td>0.006232</td>\n",
       "      <td>0.010220</td>\n",
       "    </tr>\n",
       "    <tr>\n",
       "      <th>1</th>\n",
       "      <td>0.877883</td>\n",
       "      <td>0.001400</td>\n",
       "      <td>0.006335</td>\n",
       "    </tr>\n",
       "    <tr>\n",
       "      <th>2</th>\n",
       "      <td>0.105587</td>\n",
       "      <td>0.015541</td>\n",
       "      <td>0.018300</td>\n",
       "    </tr>\n",
       "    <tr>\n",
       "      <th>3</th>\n",
       "      <td>0.630672</td>\n",
       "      <td>0.003496</td>\n",
       "      <td>0.007696</td>\n",
       "    </tr>\n",
       "  </tbody>\n",
       "</table>\n",
       "</div>"
      ],
      "text/plain": [
       "          0         1         2\n",
       "0  0.358468  0.006232  0.010220\n",
       "1  0.877883  0.001400  0.006335\n",
       "2  0.105587  0.015541  0.018300\n",
       "3  0.630672  0.003496  0.007696"
      ]
     },
     "execution_count": 14,
     "metadata": {},
     "output_type": "execute_result"
    }
   ],
   "source": [
    "r2 = pd.DataFrame(model_KMC.cluster_centers_)\n",
    "r2"
   ]
  },
  {
   "cell_type": "code",
   "execution_count": 15,
   "metadata": {
    "colab": {
     "base_uri": "https://localhost:8080/",
     "height": 174
    },
    "executionInfo": {
     "elapsed": 309,
     "status": "ok",
     "timestamp": 1644764307240,
     "user": {
      "displayName": "Chen-Yao Chung",
      "photoUrl": "https://lh3.googleusercontent.com/a/default-user=s64",
      "userId": "16870777617936090918"
     },
     "user_tz": -480
    },
    "id": "LeJInJjK09Xa",
    "outputId": "895eca03-c5e4-4a2c-a137-e720762eb3ab"
   },
   "outputs": [
    {
     "data": {
      "text/html": [
       "<div>\n",
       "<style scoped>\n",
       "    .dataframe tbody tr th:only-of-type {\n",
       "        vertical-align: middle;\n",
       "    }\n",
       "\n",
       "    .dataframe tbody tr th {\n",
       "        vertical-align: top;\n",
       "    }\n",
       "\n",
       "    .dataframe thead th {\n",
       "        text-align: right;\n",
       "    }\n",
       "</style>\n",
       "<table border=\"1\" class=\"dataframe\">\n",
       "  <thead>\n",
       "    <tr style=\"text-align: right;\">\n",
       "      <th></th>\n",
       "      <th>0</th>\n",
       "      <th>1</th>\n",
       "      <th>2</th>\n",
       "      <th>0</th>\n",
       "    </tr>\n",
       "  </thead>\n",
       "  <tbody>\n",
       "    <tr>\n",
       "      <th>0</th>\n",
       "      <td>0.358468</td>\n",
       "      <td>0.006232</td>\n",
       "      <td>0.010220</td>\n",
       "      <td>11837</td>\n",
       "    </tr>\n",
       "    <tr>\n",
       "      <th>1</th>\n",
       "      <td>0.877883</td>\n",
       "      <td>0.001400</td>\n",
       "      <td>0.006335</td>\n",
       "      <td>9586</td>\n",
       "    </tr>\n",
       "    <tr>\n",
       "      <th>2</th>\n",
       "      <td>0.105587</td>\n",
       "      <td>0.015541</td>\n",
       "      <td>0.018300</td>\n",
       "      <td>12062</td>\n",
       "    </tr>\n",
       "    <tr>\n",
       "      <th>3</th>\n",
       "      <td>0.630672</td>\n",
       "      <td>0.003496</td>\n",
       "      <td>0.007696</td>\n",
       "      <td>10187</td>\n",
       "    </tr>\n",
       "  </tbody>\n",
       "</table>\n",
       "</div>"
      ],
      "text/plain": [
       "          0         1         2      0\n",
       "0  0.358468  0.006232  0.010220  11837\n",
       "1  0.877883  0.001400  0.006335   9586\n",
       "2  0.105587  0.015541  0.018300  12062\n",
       "3  0.630672  0.003496  0.007696  10187"
      ]
     },
     "execution_count": 15,
     "metadata": {},
     "output_type": "execute_result"
    }
   ],
   "source": [
    "r21 = pd.concat([r2, r1], axis = 1)\n",
    "r21"
   ]
  },
  {
   "cell_type": "code",
   "execution_count": 16,
   "metadata": {
    "colab": {
     "base_uri": "https://localhost:8080/",
     "height": 174
    },
    "executionInfo": {
     "elapsed": 421,
     "status": "ok",
     "timestamp": 1644764382599,
     "user": {
      "displayName": "Chen-Yao Chung",
      "photoUrl": "https://lh3.googleusercontent.com/a/default-user=s64",
      "userId": "16870777617936090918"
     },
     "user_tz": -480
    },
    "id": "7Cdtdp7h2f2B",
    "outputId": "d7613989-0603-4d4a-896d-6d440b1a7f4e"
   },
   "outputs": [
    {
     "data": {
      "text/html": [
       "<div>\n",
       "<style scoped>\n",
       "    .dataframe tbody tr th:only-of-type {\n",
       "        vertical-align: middle;\n",
       "    }\n",
       "\n",
       "    .dataframe tbody tr th {\n",
       "        vertical-align: top;\n",
       "    }\n",
       "\n",
       "    .dataframe thead th {\n",
       "        text-align: right;\n",
       "    }\n",
       "</style>\n",
       "<table border=\"1\" class=\"dataframe\">\n",
       "  <thead>\n",
       "    <tr style=\"text-align: right;\">\n",
       "      <th></th>\n",
       "      <th>R</th>\n",
       "      <th>F</th>\n",
       "      <th>M</th>\n",
       "      <th>size_of_Group</th>\n",
       "    </tr>\n",
       "  </thead>\n",
       "  <tbody>\n",
       "    <tr>\n",
       "      <th>0</th>\n",
       "      <td>0.358468</td>\n",
       "      <td>0.006232</td>\n",
       "      <td>0.010220</td>\n",
       "      <td>11837</td>\n",
       "    </tr>\n",
       "    <tr>\n",
       "      <th>1</th>\n",
       "      <td>0.877883</td>\n",
       "      <td>0.001400</td>\n",
       "      <td>0.006335</td>\n",
       "      <td>9586</td>\n",
       "    </tr>\n",
       "    <tr>\n",
       "      <th>2</th>\n",
       "      <td>0.105587</td>\n",
       "      <td>0.015541</td>\n",
       "      <td>0.018300</td>\n",
       "      <td>12062</td>\n",
       "    </tr>\n",
       "    <tr>\n",
       "      <th>3</th>\n",
       "      <td>0.630672</td>\n",
       "      <td>0.003496</td>\n",
       "      <td>0.007696</td>\n",
       "      <td>10187</td>\n",
       "    </tr>\n",
       "  </tbody>\n",
       "</table>\n",
       "</div>"
      ],
      "text/plain": [
       "          R         F         M  size_of_Group\n",
       "0  0.358468  0.006232  0.010220          11837\n",
       "1  0.877883  0.001400  0.006335           9586\n",
       "2  0.105587  0.015541  0.018300          12062\n",
       "3  0.630672  0.003496  0.007696          10187"
      ]
     },
     "execution_count": 16,
     "metadata": {},
     "output_type": "execute_result"
    }
   ],
   "source": [
    "r21.columns = list(df_minmax.columns) + ['size_of_Group']\n",
    "r21"
   ]
  },
  {
   "cell_type": "code",
   "execution_count": 17,
   "metadata": {
    "colab": {
     "base_uri": "https://localhost:8080/",
     "height": 423
    },
    "executionInfo": {
     "elapsed": 376,
     "status": "ok",
     "timestamp": 1644764558885,
     "user": {
      "displayName": "Chen-Yao Chung",
      "photoUrl": "https://lh3.googleusercontent.com/a/default-user=s64",
      "userId": "16870777617936090918"
     },
     "user_tz": -480
    },
    "id": "DR5Qe4WT6HMk",
    "outputId": "c69f214c-d27c-4361-877d-c95549d23ded"
   },
   "outputs": [
    {
     "data": {
      "text/html": [
       "<div>\n",
       "<style scoped>\n",
       "    .dataframe tbody tr th:only-of-type {\n",
       "        vertical-align: middle;\n",
       "    }\n",
       "\n",
       "    .dataframe tbody tr th {\n",
       "        vertical-align: top;\n",
       "    }\n",
       "\n",
       "    .dataframe thead th {\n",
       "        text-align: right;\n",
       "    }\n",
       "</style>\n",
       "<table border=\"1\" class=\"dataframe\">\n",
       "  <thead>\n",
       "    <tr style=\"text-align: right;\">\n",
       "      <th></th>\n",
       "      <th>R</th>\n",
       "      <th>F</th>\n",
       "      <th>M</th>\n",
       "      <th>0</th>\n",
       "    </tr>\n",
       "  </thead>\n",
       "  <tbody>\n",
       "    <tr>\n",
       "      <th>0</th>\n",
       "      <td>0.875749</td>\n",
       "      <td>0.000000</td>\n",
       "      <td>0.005796</td>\n",
       "      <td>1</td>\n",
       "    </tr>\n",
       "    <tr>\n",
       "      <th>1</th>\n",
       "      <td>0.016467</td>\n",
       "      <td>0.000000</td>\n",
       "      <td>0.004963</td>\n",
       "      <td>2</td>\n",
       "    </tr>\n",
       "    <tr>\n",
       "      <th>2</th>\n",
       "      <td>0.110778</td>\n",
       "      <td>0.009009</td>\n",
       "      <td>0.012102</td>\n",
       "      <td>2</td>\n",
       "    </tr>\n",
       "    <tr>\n",
       "      <th>3</th>\n",
       "      <td>0.982036</td>\n",
       "      <td>0.000000</td>\n",
       "      <td>0.004590</td>\n",
       "      <td>1</td>\n",
       "    </tr>\n",
       "    <tr>\n",
       "      <th>4</th>\n",
       "      <td>0.215569</td>\n",
       "      <td>0.000000</td>\n",
       "      <td>0.005710</td>\n",
       "      <td>2</td>\n",
       "    </tr>\n",
       "    <tr>\n",
       "      <th>...</th>\n",
       "      <td>...</td>\n",
       "      <td>...</td>\n",
       "      <td>...</td>\n",
       "      <td>...</td>\n",
       "    </tr>\n",
       "    <tr>\n",
       "      <th>43667</th>\n",
       "      <td>0.314371</td>\n",
       "      <td>0.000000</td>\n",
       "      <td>0.002784</td>\n",
       "      <td>0</td>\n",
       "    </tr>\n",
       "    <tr>\n",
       "      <th>43668</th>\n",
       "      <td>0.161677</td>\n",
       "      <td>0.009009</td>\n",
       "      <td>0.013260</td>\n",
       "      <td>2</td>\n",
       "    </tr>\n",
       "    <tr>\n",
       "      <th>43669</th>\n",
       "      <td>0.467066</td>\n",
       "      <td>0.000000</td>\n",
       "      <td>0.003222</td>\n",
       "      <td>0</td>\n",
       "    </tr>\n",
       "    <tr>\n",
       "      <th>43670</th>\n",
       "      <td>0.047904</td>\n",
       "      <td>0.000000</td>\n",
       "      <td>0.000519</td>\n",
       "      <td>2</td>\n",
       "    </tr>\n",
       "    <tr>\n",
       "      <th>43671</th>\n",
       "      <td>0.034431</td>\n",
       "      <td>0.009009</td>\n",
       "      <td>0.010986</td>\n",
       "      <td>2</td>\n",
       "    </tr>\n",
       "  </tbody>\n",
       "</table>\n",
       "<p>43672 rows × 4 columns</p>\n",
       "</div>"
      ],
      "text/plain": [
       "              R         F         M  0\n",
       "0      0.875749  0.000000  0.005796  1\n",
       "1      0.016467  0.000000  0.004963  2\n",
       "2      0.110778  0.009009  0.012102  2\n",
       "3      0.982036  0.000000  0.004590  1\n",
       "4      0.215569  0.000000  0.005710  2\n",
       "...         ...       ...       ... ..\n",
       "43667  0.314371  0.000000  0.002784  0\n",
       "43668  0.161677  0.009009  0.013260  2\n",
       "43669  0.467066  0.000000  0.003222  0\n",
       "43670  0.047904  0.000000  0.000519  2\n",
       "43671  0.034431  0.009009  0.010986  2\n",
       "\n",
       "[43672 rows x 4 columns]"
      ]
     },
     "execution_count": 17,
     "metadata": {},
     "output_type": "execute_result"
    }
   ],
   "source": [
    "r = pd.concat([df_minmax, pd.Series(model_KMC.labels_, index = df_minmax.index)], axis = 1)\n",
    "r"
   ]
  },
  {
   "cell_type": "code",
   "execution_count": 18,
   "metadata": {
    "colab": {
     "base_uri": "https://localhost:8080/",
     "height": 423
    },
    "executionInfo": {
     "elapsed": 477,
     "status": "ok",
     "timestamp": 1644764614777,
     "user": {
      "displayName": "Chen-Yao Chung",
      "photoUrl": "https://lh3.googleusercontent.com/a/default-user=s64",
      "userId": "16870777617936090918"
     },
     "user_tz": -480
    },
    "id": "sOMeL2WJXkTc",
    "outputId": "788aa1f6-3b56-43d8-caf2-c87342790264"
   },
   "outputs": [
    {
     "data": {
      "text/html": [
       "<div>\n",
       "<style scoped>\n",
       "    .dataframe tbody tr th:only-of-type {\n",
       "        vertical-align: middle;\n",
       "    }\n",
       "\n",
       "    .dataframe tbody tr th {\n",
       "        vertical-align: top;\n",
       "    }\n",
       "\n",
       "    .dataframe thead th {\n",
       "        text-align: right;\n",
       "    }\n",
       "</style>\n",
       "<table border=\"1\" class=\"dataframe\">\n",
       "  <thead>\n",
       "    <tr style=\"text-align: right;\">\n",
       "      <th></th>\n",
       "      <th>R</th>\n",
       "      <th>F</th>\n",
       "      <th>M</th>\n",
       "      <th>GroupID</th>\n",
       "    </tr>\n",
       "  </thead>\n",
       "  <tbody>\n",
       "    <tr>\n",
       "      <th>0</th>\n",
       "      <td>0.875749</td>\n",
       "      <td>0.000000</td>\n",
       "      <td>0.005796</td>\n",
       "      <td>1</td>\n",
       "    </tr>\n",
       "    <tr>\n",
       "      <th>1</th>\n",
       "      <td>0.016467</td>\n",
       "      <td>0.000000</td>\n",
       "      <td>0.004963</td>\n",
       "      <td>2</td>\n",
       "    </tr>\n",
       "    <tr>\n",
       "      <th>2</th>\n",
       "      <td>0.110778</td>\n",
       "      <td>0.009009</td>\n",
       "      <td>0.012102</td>\n",
       "      <td>2</td>\n",
       "    </tr>\n",
       "    <tr>\n",
       "      <th>3</th>\n",
       "      <td>0.982036</td>\n",
       "      <td>0.000000</td>\n",
       "      <td>0.004590</td>\n",
       "      <td>1</td>\n",
       "    </tr>\n",
       "    <tr>\n",
       "      <th>4</th>\n",
       "      <td>0.215569</td>\n",
       "      <td>0.000000</td>\n",
       "      <td>0.005710</td>\n",
       "      <td>2</td>\n",
       "    </tr>\n",
       "    <tr>\n",
       "      <th>...</th>\n",
       "      <td>...</td>\n",
       "      <td>...</td>\n",
       "      <td>...</td>\n",
       "      <td>...</td>\n",
       "    </tr>\n",
       "    <tr>\n",
       "      <th>43667</th>\n",
       "      <td>0.314371</td>\n",
       "      <td>0.000000</td>\n",
       "      <td>0.002784</td>\n",
       "      <td>0</td>\n",
       "    </tr>\n",
       "    <tr>\n",
       "      <th>43668</th>\n",
       "      <td>0.161677</td>\n",
       "      <td>0.009009</td>\n",
       "      <td>0.013260</td>\n",
       "      <td>2</td>\n",
       "    </tr>\n",
       "    <tr>\n",
       "      <th>43669</th>\n",
       "      <td>0.467066</td>\n",
       "      <td>0.000000</td>\n",
       "      <td>0.003222</td>\n",
       "      <td>0</td>\n",
       "    </tr>\n",
       "    <tr>\n",
       "      <th>43670</th>\n",
       "      <td>0.047904</td>\n",
       "      <td>0.000000</td>\n",
       "      <td>0.000519</td>\n",
       "      <td>2</td>\n",
       "    </tr>\n",
       "    <tr>\n",
       "      <th>43671</th>\n",
       "      <td>0.034431</td>\n",
       "      <td>0.009009</td>\n",
       "      <td>0.010986</td>\n",
       "      <td>2</td>\n",
       "    </tr>\n",
       "  </tbody>\n",
       "</table>\n",
       "<p>43672 rows × 4 columns</p>\n",
       "</div>"
      ],
      "text/plain": [
       "              R         F         M  GroupID\n",
       "0      0.875749  0.000000  0.005796        1\n",
       "1      0.016467  0.000000  0.004963        2\n",
       "2      0.110778  0.009009  0.012102        2\n",
       "3      0.982036  0.000000  0.004590        1\n",
       "4      0.215569  0.000000  0.005710        2\n",
       "...         ...       ...       ...      ...\n",
       "43667  0.314371  0.000000  0.002784        0\n",
       "43668  0.161677  0.009009  0.013260        2\n",
       "43669  0.467066  0.000000  0.003222        0\n",
       "43670  0.047904  0.000000  0.000519        2\n",
       "43671  0.034431  0.009009  0.010986        2\n",
       "\n",
       "[43672 rows x 4 columns]"
      ]
     },
     "execution_count": 18,
     "metadata": {},
     "output_type": "execute_result"
    }
   ],
   "source": [
    "r.columns = list(df_minmax.columns) + ['GroupID']\n",
    "r"
   ]
  },
  {
   "cell_type": "code",
   "execution_count": 19,
   "metadata": {
    "colab": {
     "base_uri": "https://localhost:8080/",
     "height": 423
    },
    "executionInfo": {
     "elapsed": 363,
     "status": "ok",
     "timestamp": 1644764929423,
     "user": {
      "displayName": "Chen-Yao Chung",
      "photoUrl": "https://lh3.googleusercontent.com/a/default-user=s64",
      "userId": "16870777617936090918"
     },
     "user_tz": -480
    },
    "id": "QWCbw9peY0K5",
    "outputId": "e4ef2f9e-51db-4de8-e1a5-f0ee503a30a6"
   },
   "outputs": [
    {
     "data": {
      "text/html": [
       "<div>\n",
       "<style scoped>\n",
       "    .dataframe tbody tr th:only-of-type {\n",
       "        vertical-align: middle;\n",
       "    }\n",
       "\n",
       "    .dataframe tbody tr th {\n",
       "        vertical-align: top;\n",
       "    }\n",
       "\n",
       "    .dataframe thead th {\n",
       "        text-align: right;\n",
       "    }\n",
       "</style>\n",
       "<table border=\"1\" class=\"dataframe\">\n",
       "  <thead>\n",
       "    <tr style=\"text-align: right;\">\n",
       "      <th></th>\n",
       "      <th>cid</th>\n",
       "      <th>gender</th>\n",
       "      <th>R</th>\n",
       "      <th>F</th>\n",
       "      <th>M</th>\n",
       "      <th>k-means</th>\n",
       "    </tr>\n",
       "  </thead>\n",
       "  <tbody>\n",
       "    <tr>\n",
       "      <th>0</th>\n",
       "      <td>0S3670071489</td>\n",
       "      <td>F</td>\n",
       "      <td>586</td>\n",
       "      <td>1</td>\n",
       "      <td>1380</td>\n",
       "      <td>1</td>\n",
       "    </tr>\n",
       "    <tr>\n",
       "      <th>1</th>\n",
       "      <td>0S3687895473</td>\n",
       "      <td>M</td>\n",
       "      <td>12</td>\n",
       "      <td>1</td>\n",
       "      <td>1186</td>\n",
       "      <td>2</td>\n",
       "    </tr>\n",
       "    <tr>\n",
       "      <th>2</th>\n",
       "      <td>0S3690675977</td>\n",
       "      <td>F</td>\n",
       "      <td>75</td>\n",
       "      <td>2</td>\n",
       "      <td>2850</td>\n",
       "      <td>2</td>\n",
       "    </tr>\n",
       "    <tr>\n",
       "      <th>3</th>\n",
       "      <td>2009S2044237</td>\n",
       "      <td>F</td>\n",
       "      <td>657</td>\n",
       "      <td>1</td>\n",
       "      <td>1099</td>\n",
       "      <td>1</td>\n",
       "    </tr>\n",
       "    <tr>\n",
       "      <th>4</th>\n",
       "      <td>2009S2044261</td>\n",
       "      <td>M</td>\n",
       "      <td>145</td>\n",
       "      <td>1</td>\n",
       "      <td>1360</td>\n",
       "      <td>2</td>\n",
       "    </tr>\n",
       "    <tr>\n",
       "      <th>...</th>\n",
       "      <td>...</td>\n",
       "      <td>...</td>\n",
       "      <td>...</td>\n",
       "      <td>...</td>\n",
       "      <td>...</td>\n",
       "      <td>...</td>\n",
       "    </tr>\n",
       "    <tr>\n",
       "      <th>43667</th>\n",
       "      <td>S201S242852053</td>\n",
       "      <td>F</td>\n",
       "      <td>211</td>\n",
       "      <td>1</td>\n",
       "      <td>678</td>\n",
       "      <td>0</td>\n",
       "    </tr>\n",
       "    <tr>\n",
       "      <th>43668</th>\n",
       "      <td>S201S280812053</td>\n",
       "      <td>F</td>\n",
       "      <td>109</td>\n",
       "      <td>2</td>\n",
       "      <td>3120</td>\n",
       "      <td>2</td>\n",
       "    </tr>\n",
       "    <tr>\n",
       "      <th>43669</th>\n",
       "      <td>S201S280816053</td>\n",
       "      <td>M</td>\n",
       "      <td>313</td>\n",
       "      <td>1</td>\n",
       "      <td>780</td>\n",
       "      <td>0</td>\n",
       "    </tr>\n",
       "    <tr>\n",
       "      <th>43670</th>\n",
       "      <td>S201S280840053</td>\n",
       "      <td>M</td>\n",
       "      <td>33</td>\n",
       "      <td>1</td>\n",
       "      <td>150</td>\n",
       "      <td>2</td>\n",
       "    </tr>\n",
       "    <tr>\n",
       "      <th>43671</th>\n",
       "      <td>S201S282920053</td>\n",
       "      <td>F</td>\n",
       "      <td>24</td>\n",
       "      <td>2</td>\n",
       "      <td>2590</td>\n",
       "      <td>2</td>\n",
       "    </tr>\n",
       "  </tbody>\n",
       "</table>\n",
       "<p>43672 rows × 6 columns</p>\n",
       "</div>"
      ],
      "text/plain": [
       "                  cid gender    R  F     M  k-means\n",
       "0        0S3670071489      F  586  1  1380        1\n",
       "1        0S3687895473      M   12  1  1186        2\n",
       "2        0S3690675977      F   75  2  2850        2\n",
       "3        2009S2044237      F  657  1  1099        1\n",
       "4        2009S2044261      M  145  1  1360        2\n",
       "...               ...    ...  ... ..   ...      ...\n",
       "43667  S201S242852053      F  211  1   678        0\n",
       "43668  S201S280812053      F  109  2  3120        2\n",
       "43669  S201S280816053      M  313  1   780        0\n",
       "43670  S201S280840053      M   33  1   150        2\n",
       "43671  S201S282920053      F   24  2  2590        2\n",
       "\n",
       "[43672 rows x 6 columns]"
      ]
     },
     "execution_count": 19,
     "metadata": {},
     "output_type": "execute_result"
    }
   ],
   "source": [
    "rfm[\"k-means\"] = model_KMC.labels_\n",
    "rfm"
   ]
  },
  {
   "cell_type": "code",
   "execution_count": 20,
   "metadata": {
    "id": "aKAFYGF1amHd"
   },
   "outputs": [],
   "source": [
    "rfm.to_csv(\"rfm_KMC_Output.csv\",index = False)"
   ]
  },
  {
   "cell_type": "code",
   "execution_count": 21,
   "metadata": {
    "colab": {
     "base_uri": "https://localhost:8080/",
     "height": 466
    },
    "executionInfo": {
     "elapsed": 5167,
     "status": "ok",
     "timestamp": 1644765895868,
     "user": {
      "displayName": "Chen-Yao Chung",
      "photoUrl": "https://lh3.googleusercontent.com/a/default-user=s64",
      "userId": "16870777617936090918"
     },
     "user_tz": -480
    },
    "id": "5RTp9DwvivQ-",
    "outputId": "af23134e-f83e-4812-aaac-78e2051b3eca"
   },
   "outputs": [
    {
     "name": "stderr",
     "output_type": "stream",
     "text": [
      "C:\\Users\\USER\\AppData\\Local\\Temp\\ipykernel_13432\\2652294920.py:5: MatplotlibDeprecationWarning: Calling gca() with keyword arguments was deprecated in Matplotlib 3.4. Starting two minor releases later, gca() will take no keyword arguments. The gca() function should only be used to get the current axes, or if no axes exist, create new axes with default keyword arguments. To create a new axes with non-default arguments, use plt.axes() or plt.subplot().\n",
      "  ax = fig.gca(projection = '3d')\n"
     ]
    },
    {
     "data": {
      "image/png": "[encoded data removed]",
      "text/plain": [
       "<Figure size 720x576 with 1 Axes>"
      ]
     },
     "metadata": {
      "needs_background": "light"
     },
     "output_type": "display_data"
    }
   ],
   "source": [
    "#3D散佈圖_精簡方法\n",
    "import matplotlib.pyplot as plt\n",
    "dft = pd.read_csv('rfm_KMC_Output.csv')\n",
    "fig = plt.figure(figsize = (10, 8))\n",
    "ax = fig.gca(projection = '3d')\n",
    "ax.scatter(dft['R'], dft['F'], dft['M'], c = dft['k-means'], marker = 'o')\n",
    "ax.set_xlabel('R')\n",
    "ax.set_ylabel('F')\n",
    "ax.set_zlabel('M')\n",
    "\n",
    "plt.show()"
   ]
  },
  {
   "cell_type": "code",
   "execution_count": 23,
   "metadata": {
    "executionInfo": {
     "elapsed": 1003,
     "status": "ok",
     "timestamp": 1644771905951,
     "user": {
      "displayName": "Chen-Yao Chung",
      "photoUrl": "https://lh3.googleusercontent.com/a/default-user=s64",
      "userId": "16870777617936090918"
     },
     "user_tz": -480
    },
    "id": "wiaoOP4p7eTe"
   },
   "outputs": [],
   "source": [
    "import numpy as np\n",
    "import pandas as pd\n",
    "import matplotlib.pyplot as plt\n",
    "from sklearn.cluster import KMeans\n",
    "from sklearn.metrics import silhouette_score"
   ]
  },
  {
   "cell_type": "code",
   "execution_count": 24,
   "metadata": {
    "colab": {
     "base_uri": "https://localhost:8080/"
    },
    "executionInfo": {
     "elapsed": 14339,
     "status": "ok",
     "timestamp": 1644772312877,
     "user": {
      "displayName": "Chen-Yao Chung",
      "photoUrl": "https://lh3.googleusercontent.com/a/default-user=s64",
      "userId": "16870777617936090918"
     },
     "user_tz": -480
    },
    "id": "Og6df1mp7qqt",
    "outputId": "7cbd504e-b928-4564-9ebe-1c6cac0fd1f8"
   },
   "outputs": [
    {
     "data": {
      "text/plain": [
       "[943.1063556920773,\n",
       " 464.7779677042206,\n",
       " 258.95275064471514,\n",
       " 180.10469769507188,\n",
       " 135.06870940285665,\n",
       " 108.3394979462708,\n",
       " 89.48362894011262,\n",
       " 78.2245390985227,\n",
       " 67.81120439679789]"
      ]
     },
     "execution_count": 24,
     "metadata": {},
     "output_type": "execute_result"
    }
   ],
   "source": [
    "SSE = [] \n",
    "for k in range(2, 11):\n",
    "    est = KMeans(n_clusters = k) \n",
    "    est.fit(df_minmax)\n",
    "    SSE.append(est.inertia_)\n",
    "\n",
    "SSE "
   ]
  },
  {
   "cell_type": "code",
   "execution_count": 25,
   "metadata": {
    "colab": {
     "base_uri": "https://localhost:8080/",
     "height": 279
    },
    "executionInfo": {
     "elapsed": 1003,
     "status": "ok",
     "timestamp": 1644772821767,
     "user": {
      "displayName": "Chen-Yao Chung",
      "photoUrl": "https://lh3.googleusercontent.com/a/default-user=s64",
      "userId": "16870777617936090918"
     },
     "user_tz": -480
    },
    "id": "aLEAG2gr7qyo",
    "outputId": "6318554e-17a7-4c20-e7a6-f8ec1eaed224"
   },
   "outputs": [
    {
     "data": {
      "image/png": "[encoded data removed]",
      "text/plain": [
       "<Figure size 432x288 with 1 Axes>"
      ]
     },
     "metadata": {
      "needs_background": "light"
     },
     "output_type": "display_data"
    }
   ],
   "source": [
    "X = range(2, 11)\n",
    "plt.xlabel('k')\n",
    "plt.ylabel('SSE')\n",
    "plt.plot(X, SSE, 'o-')\n",
    "\n",
    "plt.show()"
   ]
  },
  {
   "cell_type": "code",
   "execution_count": 26,
   "metadata": {
    "executionInfo": {
     "elapsed": 289,
     "status": "ok",
     "timestamp": 1644773471081,
     "user": {
      "displayName": "Chen-Yao Chung",
      "photoUrl": "https://lh3.googleusercontent.com/a/default-user=s64",
      "userId": "16870777617936090918"
     },
     "user_tz": -480
    },
    "id": "IuQYr_v-U6gU"
   },
   "outputs": [],
   "source": [
    "#將每一群客戶資料抽出另外儲存\n",
    "group0 = r[r['GroupID'] == 0]\n",
    "group1 = r[r['GroupID'] == 1]\n",
    "group2 = r[r['GroupID'] == 2]\n",
    "group3 = r[r['GroupID'] == 3]"
   ]
  },
  {
   "cell_type": "code",
   "execution_count": 27,
   "metadata": {
    "colab": {
     "base_uri": "https://localhost:8080/",
     "height": 300
    },
    "executionInfo": {
     "elapsed": 1006,
     "status": "ok",
     "timestamp": 1644773663598,
     "user": {
      "displayName": "Chen-Yao Chung",
      "photoUrl": "https://lh3.googleusercontent.com/a/default-user=s64",
      "userId": "16870777617936090918"
     },
     "user_tz": -480
    },
    "id": "wDYZv7HvU6u9",
    "outputId": "000c7318-7f43-4bb4-be04-184f79935480"
   },
   "outputs": [
    {
     "data": {
      "text/html": [
       "<div>\n",
       "<style scoped>\n",
       "    .dataframe tbody tr th:only-of-type {\n",
       "        vertical-align: middle;\n",
       "    }\n",
       "\n",
       "    .dataframe tbody tr th {\n",
       "        vertical-align: top;\n",
       "    }\n",
       "\n",
       "    .dataframe thead th {\n",
       "        text-align: right;\n",
       "    }\n",
       "</style>\n",
       "<table border=\"1\" class=\"dataframe\">\n",
       "  <thead>\n",
       "    <tr style=\"text-align: right;\">\n",
       "      <th></th>\n",
       "      <th>R</th>\n",
       "      <th>F</th>\n",
       "      <th>M</th>\n",
       "      <th>GroupID</th>\n",
       "    </tr>\n",
       "  </thead>\n",
       "  <tbody>\n",
       "    <tr>\n",
       "      <th>count</th>\n",
       "      <td>10187.000000</td>\n",
       "      <td>10187.000000</td>\n",
       "      <td>10187.000000</td>\n",
       "      <td>10187.0</td>\n",
       "    </tr>\n",
       "    <tr>\n",
       "      <th>mean</th>\n",
       "      <td>0.630258</td>\n",
       "      <td>0.003491</td>\n",
       "      <td>0.007693</td>\n",
       "      <td>3.0</td>\n",
       "    </tr>\n",
       "    <tr>\n",
       "      <th>std</th>\n",
       "      <td>0.071988</td>\n",
       "      <td>0.009076</td>\n",
       "      <td>0.009380</td>\n",
       "      <td>0.0</td>\n",
       "    </tr>\n",
       "    <tr>\n",
       "      <th>min</th>\n",
       "      <td>0.495509</td>\n",
       "      <td>0.000000</td>\n",
       "      <td>0.000026</td>\n",
       "      <td>3.0</td>\n",
       "    </tr>\n",
       "    <tr>\n",
       "      <th>25%</th>\n",
       "      <td>0.573353</td>\n",
       "      <td>0.000000</td>\n",
       "      <td>0.003121</td>\n",
       "      <td>3.0</td>\n",
       "    </tr>\n",
       "    <tr>\n",
       "      <th>50%</th>\n",
       "      <td>0.627246</td>\n",
       "      <td>0.000000</td>\n",
       "      <td>0.005367</td>\n",
       "      <td>3.0</td>\n",
       "    </tr>\n",
       "    <tr>\n",
       "      <th>75%</th>\n",
       "      <td>0.691617</td>\n",
       "      <td>0.000000</td>\n",
       "      <td>0.008713</td>\n",
       "      <td>3.0</td>\n",
       "    </tr>\n",
       "    <tr>\n",
       "      <th>max</th>\n",
       "      <td>0.754491</td>\n",
       "      <td>0.252252</td>\n",
       "      <td>0.199449</td>\n",
       "      <td>3.0</td>\n",
       "    </tr>\n",
       "  </tbody>\n",
       "</table>\n",
       "</div>"
      ],
      "text/plain": [
       "                  R             F             M  GroupID\n",
       "count  10187.000000  10187.000000  10187.000000  10187.0\n",
       "mean       0.630258      0.003491      0.007693      3.0\n",
       "std        0.071988      0.009076      0.009380      0.0\n",
       "min        0.495509      0.000000      0.000026      3.0\n",
       "25%        0.573353      0.000000      0.003121      3.0\n",
       "50%        0.627246      0.000000      0.005367      3.0\n",
       "75%        0.691617      0.000000      0.008713      3.0\n",
       "max        0.754491      0.252252      0.199449      3.0"
      ]
     },
     "execution_count": 27,
     "metadata": {},
     "output_type": "execute_result"
    }
   ],
   "source": [
    "#每一群的基本統計量描述\n",
    "group0.describe()\n",
    "group1.describe()\n",
    "group2.describe()\n",
    "group3.describe()"
   ]
  },
  {
   "cell_type": "code",
   "execution_count": 28,
   "metadata": {
    "colab": {
     "base_uri": "https://localhost:8080/",
     "height": 281
    },
    "executionInfo": {
     "elapsed": 413,
     "status": "ok",
     "timestamp": 1644774258625,
     "user": {
      "displayName": "Chen-Yao Chung",
      "photoUrl": "https://lh3.googleusercontent.com/a/default-user=s64",
      "userId": "16870777617936090918"
     },
     "user_tz": -480
    },
    "id": "1uOMZZvkVGDv",
    "outputId": "d0e5f86a-3abb-43f9-c2a0-75bab4830e03"
   },
   "outputs": [
    {
     "data": {
      "image/png": "[encoded data removed]",
      "text/plain": [
       "<Figure size 432x288 with 1 Axes>"
      ]
     },
     "metadata": {
      "needs_background": "light"
     },
     "output_type": "display_data"
    }
   ],
   "source": [
    "group0 = group0[['R', 'F', 'M']]\n",
    "group0.plot.box(title = \"Box Chart-Group0\")\n",
    "plt.grid(linestyle = \"--\", alpha = 0.3)"
   ]
  },
  {
   "attachments": {
    "image.png": {
     "image/png": "[encoded data removed]"
    }
   },
   "cell_type": "markdown",
   "metadata": {},
   "source": [
    "![image.png](attachment:image.png)"
   ]
  },
  {
   "cell_type": "code",
   "execution_count": 29,
   "metadata": {
    "colab": {
     "base_uri": "https://localhost:8080/",
     "height": 281
    },
    "executionInfo": {
     "elapsed": 337,
     "status": "ok",
     "timestamp": 1644774263511,
     "user": {
      "displayName": "Chen-Yao Chung",
      "photoUrl": "https://lh3.googleusercontent.com/a/default-user=s64",
      "userId": "16870777617936090918"
     },
     "user_tz": -480
    },
    "id": "pGcm05GjVGGi",
    "outputId": "5d4a8c8b-23ec-46fc-cc81-e8445ab62f81"
   },
   "outputs": [
    {
     "data": {
      "image/png": "[encoded data removed]",
      "text/plain": [
       "<Figure size 432x288 with 1 Axes>"
      ]
     },
     "metadata": {
      "needs_background": "light"
     },
     "output_type": "display_data"
    }
   ],
   "source": [
    "group1 = group1[['R', 'F', 'M']]\n",
    "group1.plot.box(title = \"Box Chart-Group1\")\n",
    "plt.grid(linestyle = \"--\", alpha = 0.3)"
   ]
  },
  {
   "cell_type": "code",
   "execution_count": 30,
   "metadata": {
    "colab": {
     "base_uri": "https://localhost:8080/",
     "height": 281
    },
    "executionInfo": {
     "elapsed": 367,
     "status": "ok",
     "timestamp": 1644774752525,
     "user": {
      "displayName": "Chen-Yao Chung",
      "photoUrl": "https://lh3.googleusercontent.com/a/default-user=s64",
      "userId": "16870777617936090918"
     },
     "user_tz": -480
    },
    "id": "bYLlbvBUVGJY",
    "outputId": "e8945c37-b350-42ed-a4ad-e3fce8417214"
   },
   "outputs": [
    {
     "data": {
      "image/png": "[encoded data removed]",
      "text/plain": [
       "<Figure size 432x288 with 1 Axes>"
      ]
     },
     "metadata": {
      "needs_background": "light"
     },
     "output_type": "display_data"
    }
   ],
   "source": [
    "group2 = group2[['R', 'F', 'M']]\n",
    "group2.plot.box(title = \"Box Chart-Group2\")\n",
    "plt.grid(linestyle = \"--\", alpha = 0.3)"
   ]
  },
  {
   "cell_type": "code",
   "execution_count": 31,
   "metadata": {
    "colab": {
     "base_uri": "https://localhost:8080/",
     "height": 281
    },
    "executionInfo": {
     "elapsed": 355,
     "status": "ok",
     "timestamp": 1644774869112,
     "user": {
      "displayName": "Chen-Yao Chung",
      "photoUrl": "https://lh3.googleusercontent.com/a/default-user=s64",
      "userId": "16870777617936090918"
     },
     "user_tz": -480
    },
    "id": "XZlC143HVGMX",
    "outputId": "3eb2bfc7-7d3d-487b-bec4-c64a2a27b13b"
   },
   "outputs": [
    {
     "data": {
      "image/png": "[encoded data removed]",
      "text/plain": [
       "<Figure size 432x288 with 1 Axes>"
      ]
     },
     "metadata": {
      "needs_background": "light"
     },
     "output_type": "display_data"
    }
   ],
   "source": [
    "group3 = group3[['R', 'F', 'M']]\n",
    "group3.plot.box(title = \"Box Chart-Group3\")\n",
    "plt.grid(linestyle = \"--\", alpha = 0.3)"
   ]
  },
  {
   "cell_type": "code",
   "execution_count": 32,
   "metadata": {
    "executionInfo": {
     "elapsed": 331,
     "status": "ok",
     "timestamp": 1644775455635,
     "user": {
      "displayName": "Chen-Yao Chung",
      "photoUrl": "https://lh3.googleusercontent.com/a/default-user=s64",
      "userId": "16870777617936090918"
     },
     "user_tz": -480
    },
    "id": "AC0kZQl3_d31"
   },
   "outputs": [],
   "source": [
    "g0 = r[r['GroupID'] == 0]\n",
    "g1 = r[r['GroupID'] == 1]\n",
    "g2 = r[r['GroupID'] == 2]\n",
    "g3 = r[r['GroupID'] == 3]"
   ]
  },
  {
   "cell_type": "code",
   "execution_count": 51,
   "metadata": {
    "colab": {
     "base_uri": "https://localhost:8080/",
     "height": 560
    },
    "executionInfo": {
     "elapsed": 320,
     "status": "ok",
     "timestamp": 1644775457557,
     "user": {
      "displayName": "Chen-Yao Chung",
      "photoUrl": "https://lh3.googleusercontent.com/a/default-user=s64",
      "userId": "16870777617936090918"
     },
     "user_tz": -480
    },
    "id": "VmhOr72V_nCe",
    "outputId": "8da4d8c9-a812-4080-8ea2-3491e9f1e231"
   },
   "outputs": [
    {
     "name": "stderr",
     "output_type": "stream",
     "text": [
      "/usr/local/lib/python3.7/dist-packages/numpy/core/_asarray.py:83: VisibleDeprecationWarning: Creating an ndarray from ragged nested sequences (which is a list-or-tuple of lists-or-tuples-or ndarrays with different lengths or shapes) is deprecated. If you meant to do this, you must specify 'dtype=object' when creating the ndarray\n",
      "  return array(a, dtype, copy=False, order=order)\n"
     ]
    },
    {
     "data": {
      "image/png": "[encoded data removed]",
      "text/plain": [
       "<Figure size 720x576 with 1 Axes>"
      ]
     },
     "metadata": {
      "needs_background": "light"
     },
     "output_type": "display_data"
    }
   ],
   "source": [
    "plt.figure(figsize = (10, 8))\n",
    "labels = 'Group0', 'Group1', 'Group2', 'Group3'\n",
    "plt.boxplot([g0['R'], g1['R'], g2['R'], g3['R']], labels = labels)\n",
    "plt.title('R - Boxplot', fontsize = 20)\n",
    "\n",
    "plt.show()"
   ]
  },
  {
   "cell_type": "code",
   "execution_count": 33,
   "metadata": {
    "colab": {
     "base_uri": "https://localhost:8080/",
     "height": 560
    },
    "executionInfo": {
     "elapsed": 1004,
     "status": "ok",
     "timestamp": 1644775929154,
     "user": {
      "displayName": "Chen-Yao Chung",
      "photoUrl": "https://lh3.googleusercontent.com/a/default-user=s64",
      "userId": "16870777617936090918"
     },
     "user_tz": -480
    },
    "id": "OMeSlzY3_qBp",
    "outputId": "7ce089bc-8e07-4d14-e147-cc317d9447be"
   },
   "outputs": [
    {
     "data": {
      "image/png": "[encoded data removed]",
      "text/plain": [
       "<Figure size 720x576 with 1 Axes>"
      ]
     },
     "metadata": {
      "needs_background": "light"
     },
     "output_type": "display_data"
    }
   ],
   "source": [
    "plt.figure(figsize = (10, 8))\n",
    "labels = 'Group0', 'Group1', 'Group2', 'Group3'\n",
    "plt.boxplot([g0['F'], g1['F'], g2['F'], g3['F']], labels = labels)\n",
    "plt.title('F - Boxplot', fontsize = 20)\n",
    "\n",
    "plt.show()"
   ]
  },
  {
   "cell_type": "code",
   "execution_count": 34,
   "metadata": {
    "colab": {
     "base_uri": "https://localhost:8080/",
     "height": 560
    },
    "executionInfo": {
     "elapsed": 342,
     "status": "ok",
     "timestamp": 1644775920282,
     "user": {
      "displayName": "Chen-Yao Chung",
      "photoUrl": "https://lh3.googleusercontent.com/a/default-user=s64",
      "userId": "16870777617936090918"
     },
     "user_tz": -480
    },
    "id": "KXRv4KTF_ql4",
    "outputId": "9943f8b7-cca7-4e53-e42c-b4199255431d"
   },
   "outputs": [
    {
     "data": {
      "image/png": "[encoded data removed]",
      "text/plain": [
       "<Figure size 720x576 with 1 Axes>"
      ]
     },
     "metadata": {
      "needs_background": "light"
     },
     "output_type": "display_data"
    }
   ],
   "source": [
    "plt.figure(figsize = (10, 8))\n",
    "labels = 'Group0', 'Group1', 'Group2', 'Group3'\n",
    "plt.boxplot([g0['M'], g1['M'], g2['M'], g3['M']], labels = labels)\n",
    "plt.title('M - Boxplot', fontsize = 20)\n",
    "\n",
    "plt.show()"
   ]
  }
 ],
 "metadata": {
  "colab": {
   "authorship_tag": "ABX9TyOaow6Pe7zc2AqE2x3Y4zFo",
   "collapsed_sections": [],
   "name": "Clustering_kmc1.ipynb",
   "provenance": []
  },
  "kernelspec": {
   "display_name": "Python 3 (ipykernel)",
   "language": "python",
   "name": "python3"
  },
  "language_info": {
   "codemirror_mode": {
    "name": "ipython",
    "version": 3
   },
   "file_extension": ".py",
   "mimetype": "text/x-python",
   "name": "python",
   "nbconvert_exporter": "python",
   "pygments_lexer": "ipython3",
   "version": "3.8.8"
  }
 },
 "nbformat": 4,
 "nbformat_minor": 1
}
