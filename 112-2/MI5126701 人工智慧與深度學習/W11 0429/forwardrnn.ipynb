{
 "cells": [
  {
   "cell_type": "code",
   "execution_count": 2,
   "metadata": {},
   "outputs": [
    {
     "name": "stdout",
     "output_type": "stream",
     "text": [
      "before activation: [0.6 0.5]\n",
      "state: [0.53704957 0.46211716]\n",
      "output: [1.56128388]\n",
      "before activation: [1.2923401  1.39225678]\n",
      "state: [0.85973818 0.88366641]\n",
      "output: [2.72707101]\n",
      "before activation: [2.45107374 2.8254142 ]\n",
      "state: [0.9852484  0.99299541]\n",
      "output: [3.07123922]\n"
     ]
    }
   ],
   "source": [
    "import numpy as np\n",
    " \n",
    "#定義輸入及初始狀態(input & and h0)\n",
    "X=[1,2, 4]\n",
    "h=[0.0,0.0]\n",
    "#定義權重及bias (weight W, U and bias b)\n",
    "w=np.asarray([[0.1,0.2],[0.3,0.4]])\n",
    "u=np.asarray([0.5,0.6])\n",
    "bh=np.asarray([0.1,-0.1])\n",
    " \n",
    "v=np.asarray([[1.0],[2.0]])\n",
    "by=0.1\n",
    " \n",
    "#計算向前傳播網路值 (forward propagation)\n",
    "for i in range(len(X)):\n",
    " neti=np.dot(h,w)+X[i]*u+bh\n",
    " h=np.tanh(neti)\n",
    " y=np.dot(h,v)+by\n",
    "  \n",
    " print(\"before activation:\",neti)\n",
    " print(\"state:\",h)\n",
    " print(\"output:\",y)\n"
   ]
  },
  {
   "cell_type": "code",
   "execution_count": null,
   "metadata": {},
   "outputs": [],
   "source": []
  }
 ],
 "metadata": {
  "kernelspec": {
   "display_name": "Python 3 (ipykernel)",
   "language": "python",
   "name": "python3"
  },
  "language_info": {
   "codemirror_mode": {
    "name": "ipython",
    "version": 3
   },
   "file_extension": ".py",
   "mimetype": "text/x-python",
   "name": "python",
   "nbconvert_exporter": "python",
   "pygments_lexer": "ipython3",
   "version": "3.8.8"
  }
 },
 "nbformat": 4,
 "nbformat_minor": 2
}
