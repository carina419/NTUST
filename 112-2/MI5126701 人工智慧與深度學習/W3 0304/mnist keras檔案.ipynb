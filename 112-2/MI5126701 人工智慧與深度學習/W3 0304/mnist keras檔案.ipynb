{
 "cells": [
  {
   "cell_type": "markdown",
   "metadata": {
    "id": "VTVJENPiJ0Rl"
   },
   "source": [
    "程式3-1"
   ]
  },
  {
   "cell_type": "code",
   "execution_count": 1,
   "metadata": {
    "executionInfo": {
     "elapsed": 6391,
     "status": "ok",
     "timestamp": 1704770115058,
     "user": {
      "displayName": "Tristan Chang",
      "userId": "01396821554749831700"
     },
     "user_tz": -480
    },
    "id": "dq9v_iyUfaqk"
   },
   "outputs": [],
   "source": [
    "import tensorflow as tf\n",
    "from tensorflow import keras\n",
    "from tensorflow.keras.utils import to_categorical\n",
    "import numpy as np\n",
    "import logging\n",
    "tf.get_logger().setLevel(logging.ERROR)\n",
    "\n",
    "EPOCHS = 20\n",
    "BATCH_SIZE = 1\n"
   ]
  },
  {
   "cell_type": "markdown",
   "metadata": {
    "id": "4aKB2jVChzFc"
   },
   "source": [
    "程式3-2"
   ]
  },
  {
   "cell_type": "code",
   "execution_count": 2,
   "metadata": {
    "colab": {
     "base_uri": "https://localhost:8080/"
    },
    "executionInfo": {
     "elapsed": 1379,
     "status": "ok",
     "timestamp": 1704770116426,
     "user": {
      "displayName": "Tristan Chang",
      "userId": "01396821554749831700"
     },
     "user_tz": -480
    },
    "id": "fsoypEhXfaql",
    "outputId": "9976786f-5c8c-4cc8-9a2f-6d1d156a0108"
   },
   "outputs": [],
   "source": [
    "# 載入訓練資料集與測試資料集\n",
    "mnist = keras.datasets.mnist\n",
    "(train_images, train_labels), (test_images,\n",
    "                               test_labels) = mnist.load_data()\n",
    "\n",
    "# 替樣本做標準化  (standardization)\n",
    "mean = np.mean(train_images)\n",
    "stddev = np.std(train_images)\n",
    "train_images = (train_images - mean) / stddev\n",
    "test_images = (test_images - mean) / stddev\n",
    "\n",
    "# 替標籤 (正解) 做 one-hot 編碼\n",
    "train_labels = to_categorical(train_labels, num_classes=10)\n",
    "test_labels = to_categorical(test_labels, num_classes=10)\n"
   ]
  },
  {
   "cell_type": "markdown",
   "metadata": {
    "id": "p8WOuFjtrSeS"
   },
   "source": [
    "程式3-3"
   ]
  },
  {
   "cell_type": "code",
   "execution_count": 3,
   "metadata": {
    "colab": {
     "base_uri": "https://localhost:8080/"
    },
    "executionInfo": {
     "elapsed": 960,
     "status": "ok",
     "timestamp": 1704770118217,
     "user": {
      "displayName": "Tristan Chang",
      "userId": "01396821554749831700"
     },
     "user_tz": -480
    },
    "id": "8y7HiApyrJVz",
    "outputId": "9d757a8b-ae53-4359-fdd8-b27ad2215134"
   },
   "outputs": [],
   "source": [
    "# 權重初始化物件\n",
    "initializer = keras.initializers.RandomUniform(\n",
    "    minval=-0.1, maxval=0.1)\n",
    "\n",
    "\n",
    "# 創建以下結構的序列式模型：\n",
    "# 輸入變量784個\n",
    "# 雙密集（全連接）層，各含25、10個神經元\n",
    "# 隱藏層激活函數為tanh\n",
    "# 輸出層以邏輯函數（sigmoid）激活\n",
    "model = keras.Sequential([\n",
    "    keras.layers.Flatten(input_shape=(28, 28)),\n",
    "    keras.layers.Dense(25, activation='tanh',\n",
    "                       kernel_initializer=initializer,\n",
    "                       bias_initializer='zeros'),\n",
    "    keras.layers.Dense(10, activation='sigmoid',\n",
    "                       kernel_initializer=initializer,\n",
    "                       bias_initializer='zeros')])\n"
   ]
  },
  {
   "cell_type": "markdown",
   "metadata": {
    "id": "Q6S84JfpJ3SA"
   },
   "source": [
    "程式3-4"
   ]
  },
  {
   "cell_type": "code",
   "execution_count": null,
   "metadata": {
    "id": "eWPALn_Efaqo"
   },
   "outputs": [
    {
     "name": "stdout",
     "output_type": "stream",
     "text": [
      "Epoch 1/20\n",
      "60000/60000 - 22s - loss: 0.0557 - accuracy: 0.6480 - val_loss: 0.0291 - val_accuracy: 0.8810\n",
      "Epoch 2/20\n",
      "60000/60000 - 20s - loss: 0.0222 - accuracy: 0.8947 - val_loss: 0.0176 - val_accuracy: 0.9116\n",
      "Epoch 3/20\n",
      "60000/60000 - 20s - loss: 0.0165 - accuracy: 0.9129 - val_loss: 0.0150 - val_accuracy: 0.9193\n",
      "Epoch 4/20\n"
     ]
    }
   ],
   "source": [
    "# 除了使用隨機梯度下降法（SGD）\n",
    "# 與學習率0.01以外，無其他有的沒的\n",
    "# 損失以MSE計量，訓練全程監看準確率\n",
    "opt = keras.optimizers.SGD(learning_rate=0.01)\n",
    "\n",
    "model.compile(loss='mean_squared_error', optimizer = opt,\n",
    "              metrics =['accuracy'])\n",
    "# 模型訓練週期為20\n",
    "# 每週期開始時重新（隨機）打散樣本順序\n",
    "# 批次量為1（batch_size=1），一批次結束時更新權重\n",
    "history = model.fit(train_images, train_labels,\n",
    "                    validation_data=(test_images, test_labels),\n",
    "                    epochs=EPOCHS, batch_size=BATCH_SIZE,\n",
    "                    verbose=2, shuffle=True)\n"
   ]
  }
 ],
 "metadata": {
  "accelerator": "GPU",
  "colab": {
   "gpuType": "T4",
   "provenance": []
  },
  "kernelspec": {
   "display_name": "Python 3",
   "language": "python",
   "name": "python3"
  },
  "language_info": {
   "codemirror_mode": {
    "name": "ipython",
    "version": 3
   },
   "file_extension": ".py",
   "mimetype": "text/x-python",
   "name": "python",
   "nbconvert_exporter": "python",
   "pygments_lexer": "ipython3",
   "version": "3.8.8"
  }
 },
 "nbformat": 4,
 "nbformat_minor": 1
}
