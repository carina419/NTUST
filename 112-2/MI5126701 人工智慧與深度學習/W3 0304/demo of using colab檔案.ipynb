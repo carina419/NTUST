{
 "cells": [
  {
   "cell_type": "code",
   "execution_count": 1,
   "metadata": {
    "colab": {
     "base_uri": "https://localhost:8080/"
    },
    "executionInfo": {
     "elapsed": 449,
     "status": "ok",
     "timestamp": 1643877838335,
     "user": {
      "displayName": "Chen-Yao Chung",
      "photoUrl": "https://lh3.googleusercontent.com/a/default-user=s64",
      "userId": "16870777617936090918"
     },
     "user_tz": -480
    },
    "id": "79Gn6UTG1gbZ",
    "outputId": "d88978c5-8fea-4b6e-b8f7-f928d98ea27c"
   },
   "outputs": [
    {
     "name": "stdout",
     "output_type": "stream",
     "text": [
      "Hello Python\n"
     ]
    }
   ],
   "source": [
    "print('Hello Python')"
   ]
  },
  {
   "cell_type": "code",
   "execution_count": 2,
   "metadata": {
    "executionInfo": {
     "elapsed": 13,
     "status": "ok",
     "timestamp": 1643877838628,
     "user": {
      "displayName": "Chen-Yao Chung",
      "photoUrl": "https://lh3.googleusercontent.com/a/default-user=s64",
      "userId": "16870777617936090918"
     },
     "user_tz": -480
    },
    "id": "DzASr8TkoUjo"
   },
   "outputs": [],
   "source": [
    "#大部分Linux指令會在前面會加上一個驚嘆號\"!\""
   ]
  },
  {
   "cell_type": "code",
   "execution_count": 3,
   "metadata": {
    "colab": {
     "base_uri": "https://localhost:8080/"
    },
    "executionInfo": {
     "elapsed": 314,
     "status": "ok",
     "timestamp": 1643877838932,
     "user": {
      "displayName": "Chen-Yao Chung",
      "photoUrl": "https://lh3.googleusercontent.com/a/default-user=s64",
      "userId": "16870777617936090918"
     },
     "user_tz": -480
    },
    "id": "TDZNql3bqoWd",
    "outputId": "d78eaa67-d6ab-4427-b2a8-2c9bd2ac1d1d"
   },
   "outputs": [
    {
     "name": "stdout",
     "output_type": "stream",
     "text": [
      "35.221.37.82"
     ]
    }
   ],
   "source": [
    "!curl ipecho.net/plain"
   ]
  },
  {
   "cell_type": "code",
   "execution_count": 4,
   "metadata": {
    "colab": {
     "base_uri": "https://localhost:8080/"
    },
    "executionInfo": {
     "elapsed": 401,
     "status": "ok",
     "timestamp": 1643877839325,
     "user": {
      "displayName": "Chen-Yao Chung",
      "photoUrl": "https://lh3.googleusercontent.com/a/default-user=s64",
      "userId": "16870777617936090918"
     },
     "user_tz": -480
    },
    "id": "RdM9ZlrXx-XG",
    "outputId": "f5f3f122-44f8-44fe-b1cc-0b99a4ad012f"
   },
   "outputs": [
    {
     "name": "stdout",
     "output_type": "stream",
     "text": [
      "No LSB modules are available.\n",
      "Distributor ID:\tUbuntu\n",
      "Description:\tUbuntu 18.04.5 LTS\n",
      "Release:\t18.04\n",
      "Codename:\tbionic\n"
     ]
    }
   ],
   "source": [
    "!lsb_release -a"
   ]
  },
  {
   "cell_type": "code",
   "execution_count": 5,
   "metadata": {
    "colab": {
     "base_uri": "https://localhost:8080/"
    },
    "executionInfo": {
     "elapsed": 436,
     "status": "ok",
     "timestamp": 1643877839758,
     "user": {
      "displayName": "Chen-Yao Chung",
      "photoUrl": "https://lh3.googleusercontent.com/a/default-user=s64",
      "userId": "16870777617936090918"
     },
     "user_tz": -480
    },
    "id": "8ROyTmkz29zP",
    "outputId": "7f011f58-d54d-4df7-e8d3-ba381b072e74"
   },
   "outputs": [
    {
     "name": "stdout",
     "output_type": "stream",
     "text": [
      "Available kernels:\n",
      "  ir         /usr/local/share/jupyter/kernels/ir\n",
      "  python2    /usr/local/share/jupyter/kernels/python2\n",
      "  python3    /usr/local/share/jupyter/kernels/python3\n"
     ]
    }
   ],
   "source": [
    "!jupyter-kernelspec list"
   ]
  },
  {
   "cell_type": "code",
   "execution_count": 6,
   "metadata": {
    "colab": {
     "base_uri": "https://localhost:8080/"
    },
    "executionInfo": {
     "elapsed": 22,
     "status": "ok",
     "timestamp": 1643877839759,
     "user": {
      "displayName": "Chen-Yao Chung",
      "photoUrl": "https://lh3.googleusercontent.com/a/default-user=s64",
      "userId": "16870777617936090918"
     },
     "user_tz": -480
    },
    "id": "6yEuXI1f6mRG",
    "outputId": "8562f713-5619-4c12-bab8-feb4c8204fea"
   },
   "outputs": [
    {
     "name": "stdout",
     "output_type": "stream",
     "text": [
      "Python 3.7.12\n"
     ]
    }
   ],
   "source": [
    "!python -V"
   ]
  },
  {
   "cell_type": "code",
   "execution_count": 7,
   "metadata": {
    "colab": {
     "base_uri": "https://localhost:8080/"
    },
    "executionInfo": {
     "elapsed": 16,
     "status": "ok",
     "timestamp": 1643877839761,
     "user": {
      "displayName": "Chen-Yao Chung",
      "photoUrl": "https://lh3.googleusercontent.com/a/default-user=s64",
      "userId": "16870777617936090918"
     },
     "user_tz": -480
    },
    "id": "hhELBus37sKF",
    "outputId": "16476672-85d6-43cd-c06c-082fa70e7207"
   },
   "outputs": [
    {
     "name": "stdout",
     "output_type": "stream",
     "text": [
      "sys.version_info(major=3, minor=7, micro=12, releaselevel='final', serial=0)\n"
     ]
    }
   ],
   "source": [
    "import sys\n",
    "print(sys.version_info)"
   ]
  },
  {
   "cell_type": "code",
   "execution_count": 8,
   "metadata": {
    "colab": {
     "base_uri": "https://localhost:8080/"
    },
    "executionInfo": {
     "elapsed": 379,
     "status": "ok",
     "timestamp": 1643877840129,
     "user": {
      "displayName": "Chen-Yao Chung",
      "photoUrl": "https://lh3.googleusercontent.com/a/default-user=s64",
      "userId": "16870777617936090918"
     },
     "user_tz": -480
    },
    "id": "npiv5aI88ED7",
    "outputId": "e05d09d8-749d-407b-e4e3-212caf53fecb"
   },
   "outputs": [
    {
     "name": "stdout",
     "output_type": "stream",
     "text": [
      "\u001b[0m\u001b[01;34msample_data\u001b[0m/\n"
     ]
    }
   ],
   "source": [
    "ls"
   ]
  }
 ],
 "metadata": {
  "colab": {
   "collapsed_sections": [],
   "name": "Demo.ipynb",
   "provenance": []
  },
  "kernelspec": {
   "display_name": "Python 3",
   "language": "python",
   "name": "python3"
  },
  "language_info": {
   "codemirror_mode": {
    "name": "ipython",
    "version": 3
   },
   "file_extension": ".py",
   "mimetype": "text/x-python",
   "name": "python",
   "nbconvert_exporter": "python",
   "pygments_lexer": "ipython3",
   "version": "3.8.8"
  }
 },
 "nbformat": 4,
 "nbformat_minor": 1
}
