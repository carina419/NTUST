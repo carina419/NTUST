{
 "cells": [
  {
   "cell_type": "markdown",
   "id": "5e6dc226-22d2-4097-8393-68bc4282418e",
   "metadata": {},
   "source": [
    "## Class is the fundation of object oriented programming. A class is the description of the structure of a specific type of objects. That is, a class is a data type which can be used to created objects."
   ]
  },
  {
   "cell_type": "code",
   "execution_count": 1,
   "id": "efb08683-eb10-433c-9573-df95f9c32883",
   "metadata": {},
   "outputs": [
    {
     "name": "stdout",
     "output_type": "stream",
     "text": [
      "The mighty hunter:  Elmer Fudd\n"
     ]
    }
   ],
   "source": [
    "class Person():\n",
    "    def __init__(self, name):\n",
    "        self.name=name\n",
    "\n",
    "hunter = Person('Elmer Fudd')\n",
    "print('The mighty hunter: ', hunter.name)"
   ]
  },
  {
   "cell_type": "markdown",
   "id": "4bc8fb5f-0803-468a-8965-37f90e087df7",
   "metadata": {},
   "source": [
    "# What happens,\n",
    "\n",
    "1. check the Person class\n",
    "2. construct a new object in memory\n",
    "3. call the __init__ method; pass the new object (pointer)\n",
    "   to 'self' and pass parameter ('Elmer Fudd') to 'name'\n",
    "4. store the name in the new object.\n",
    "5. return the new object\n",
    "6. assign the new object to the variable hunter\n",
    "\n"
   ]
  },
  {
   "cell_type": "code",
   "execution_count": 3,
   "id": "2f5878ec-afe8-4502-95c9-ad317788d8c6",
   "metadata": {},
   "outputs": [
    {
     "name": "stdout",
     "output_type": "stream",
     "text": [
      "I'm a Car!\n",
      "I'm a Yugo! Much like a Car, but more Yugo-ish.\n",
      "A little help here?\n"
     ]
    }
   ],
   "source": [
    "class Car():\n",
    "        def exclaim(self):\n",
    "            print(\"I'm a Car!\")\n",
    "class Yugo(Car):\n",
    "    def exclaim(self):\n",
    "        print(\"I'm a Yugo! Much like a Car, but more Yugo-ish.\")\n",
    "\n",
    "give_me_a_car = Car()\n",
    "give_me_a_yugo = Yugo()\n",
    "give_me_a_car.exclaim()\n",
    "give_me_a_yugo.exclaim()\n",
    "\n",
    "class Yugo1(Car):\n",
    "    def exclaim(self):\n",
    "        print(\"I'm a Yugo! Much like a Car, but more Yugo-ish.\")\n",
    "    def need_a_push(self):\n",
    "        print(\"A little help here?\")\n",
    "\n",
    "give_me_a_yugo1=Yugo1()\n",
    "give_me_a_yugo1.need_a_push()"
   ]
  },
  {
   "cell_type": "markdown",
   "id": "3aa556ad-a449-4940-9c1e-cae9b6903d56",
   "metadata": {},
   "source": [
    "## class method and static method\n",
    "\n",
    "## class method: belong to the calss; affect all of its objects"
   ]
  },
  {
   "cell_type": "code",
   "execution_count": 4,
   "id": "7b6a306e-c3e8-4219-97c4-e2cf0f962ae1",
   "metadata": {},
   "outputs": [
    {
     "name": "stdout",
     "output_type": "stream",
     "text": [
      "A has  3 little objects.\n"
     ]
    }
   ],
   "source": [
    "class A():\n",
    "    count = 0  # count is a class attribute\n",
    "    def __init__(self):    # self defines an object method\n",
    "        A.count += 1\n",
    "    def exclaim(self):\n",
    "        print(\"I'm an A!\")\n",
    "    @classmethod\n",
    "    def kids(cls):  # cls refers to class\n",
    "        print(\"A has \", cls.count, \"little objects.\")\n",
    "\n",
    "easy_a = A()\n",
    "breezy_a =A()\n",
    "wheezy_a = A()\n",
    "A.kids()"
   ]
  },
  {
   "cell_type": "markdown",
   "id": "a6771e2c-6233-4874-8842-dea1b15841b9",
   "metadata": {},
   "source": [
    "# A static method affects nothing! "
   ]
  },
  {
   "cell_type": "code",
   "execution_count": 5,
   "id": "d9d42ce3-fb1a-429d-adb7-ca488713e358",
   "metadata": {},
   "outputs": [
    {
     "name": "stdout",
     "output_type": "stream",
     "text": [
      "This CoyoteWeapon has been brought to you by Acme.\n"
     ]
    }
   ],
   "source": [
    "class CoyoteWeapon():\n",
    "    @staticmethod\n",
    "    def commerical():\n",
    "        print(\"This CoyoteWeapon has been brought to you by Acme.\")    \n",
    "\n",
    "CoyoteWeapon.commerical()\n"
   ]
  }
 ],
 "metadata": {
  "kernelspec": {
   "display_name": "Python 3 (ipykernel)",
   "language": "python",
   "name": "python3"
  },
  "language_info": {
   "codemirror_mode": {
    "name": "ipython",
    "version": 3
   },
   "file_extension": ".py",
   "mimetype": "text/x-python",
   "name": "python",
   "nbconvert_exporter": "python",
   "pygments_lexer": "ipython3",
   "version": "3.11.7"
  }
 },
 "nbformat": 4,
 "nbformat_minor": 5
}
