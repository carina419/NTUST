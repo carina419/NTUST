{
 "cells": [
  {
   "cell_type": "code",
   "execution_count": 2,
   "id": "c34487cf-06ee-4741-9daf-5617db4d2408",
   "metadata": {},
   "outputs": [
    {
     "data": {
      "text/plain": [
       "array([1, 2, 3, 4])"
      ]
     },
     "execution_count": 2,
     "metadata": {},
     "output_type": "execute_result"
    }
   ],
   "source": [
    "#import os\n",
    "#os.chdir('G:\\\\aibd\\Python')\n",
    "# numpy operations\n",
    "import numpy as np\n",
    "a= np.array([1,2,3,4])\n",
    "a"
   ]
  },
  {
   "cell_type": "code",
   "execution_count": 4,
   "id": "81ac25dd-e955-4300-9c02-c84668d87c22",
   "metadata": {},
   "outputs": [
    {
     "data": {
      "text/plain": [
       "2"
      ]
     },
     "execution_count": 4,
     "metadata": {},
     "output_type": "execute_result"
    }
   ],
   "source": [
    "b=np.array([[1,2], [3,4], [5,6]])\n",
    "b.ndim     # dimension of array"
   ]
  },
  {
   "cell_type": "code",
   "execution_count": 5,
   "id": "f8ce32f7-f363-473a-abd8-834b7b791b83",
   "metadata": {},
   "outputs": [
    {
     "data": {
      "text/plain": [
       "(3, 2)"
      ]
     },
     "execution_count": 5,
     "metadata": {},
     "output_type": "execute_result"
    }
   ],
   "source": [
    "b.shape    # shape of array"
   ]
  },
  {
   "cell_type": "code",
   "execution_count": 9,
   "id": "afc48e56-dd59-4512-9712-c926b7410522",
   "metadata": {},
   "outputs": [
    {
     "data": {
      "text/plain": [
       "array([[1., 1., 1.],\n",
       "       [1., 1., 1.],\n",
       "       [1., 1., 1.]])"
      ]
     },
     "execution_count": 9,
     "metadata": {},
     "output_type": "execute_result"
    }
   ],
   "source": [
    "np.ones((3,3))   # fill in 1"
   ]
  },
  {
   "cell_type": "code",
   "execution_count": 10,
   "id": "e441be3b-ff84-46e7-bf9b-743d426f79d3",
   "metadata": {},
   "outputs": [
    {
     "data": {
      "text/plain": [
       "array([[0., 0., 0., 0., 0., 0.],\n",
       "       [0., 0., 0., 0., 0., 0.],\n",
       "       [0., 0., 0., 0., 0., 0.]])"
      ]
     },
     "execution_count": 10,
     "metadata": {},
     "output_type": "execute_result"
    }
   ],
   "source": [
    "np.zeros((3,6))  # fill in 0"
   ]
  },
  {
   "cell_type": "code",
   "execution_count": 11,
   "id": "2479f038-97ed-496e-839b-a0ad6c4ed2e2",
   "metadata": {},
   "outputs": [
    {
     "data": {
      "text/plain": [
       "array([[1., 0., 0., 0.],\n",
       "       [0., 1., 0., 0.],\n",
       "       [0., 0., 1., 0.],\n",
       "       [0., 0., 0., 1.]])"
      ]
     },
     "execution_count": 11,
     "metadata": {},
     "output_type": "execute_result"
    }
   ],
   "source": [
    "np.eye(4)        # unit matrix"
   ]
  },
  {
   "cell_type": "code",
   "execution_count": 12,
   "id": "f634b062-1f32-44c2-83de-6adcee8a19f7",
   "metadata": {},
   "outputs": [
    {
     "data": {
      "text/plain": [
       "array([[ 0.90918244, -0.22714291,  0.21907727,  1.3407964 ],\n",
       "       [-0.10855913, -0.06586494,  0.82939993, -0.58146178],\n",
       "       [ 0.04574256, -0.98400865,  0.08096114, -1.35986575],\n",
       "       [ 1.14071943, -1.85111367,  0.51995639, -0.28317827],\n",
       "       [ 1.55587828,  0.56824535,  0.10532914,  1.41381496],\n",
       "       [-0.10139255, -0.24204238,  0.34154561,  0.88989919]])"
      ]
     },
     "execution_count": 12,
     "metadata": {},
     "output_type": "execute_result"
    }
   ],
   "source": [
    "np.random.randn(6,4)   # random number generator, normal dist."
   ]
  },
  {
   "cell_type": "code",
   "execution_count": null,
   "id": "21276b99-4954-4957-be22-f653ed0ea241",
   "metadata": {},
   "outputs": [],
   "source": [
    "a=np.arange(10)    "
   ]
  },
  {
   "cell_type": "code",
   "execution_count": null,
   "id": "d5b62507-1275-4d3c-bc56-1c1f33d576f6",
   "metadata": {},
   "outputs": [],
   "source": [
    "a[0], a[3], a[-1]     # index"
   ]
  },
  {
   "cell_type": "code",
   "execution_count": null,
   "id": "2af6031b-70f3-4289-ac91-178ce8a4d3fc",
   "metadata": {},
   "outputs": [],
   "source": [
    "a[:4]     # from begining to 4 (not include 4)"
   ]
  },
  {
   "cell_type": "code",
   "execution_count": null,
   "id": "6407765c-b085-471f-92ce-8e65c9474c7f",
   "metadata": {},
   "outputs": [],
   "source": [
    "a[3:7]    # open at the right end"
   ]
  },
  {
   "cell_type": "code",
   "execution_count": null,
   "id": "4ee65b0a-84ec-4f28-86dd-f59d154f68f9",
   "metadata": {},
   "outputs": [],
   "source": [
    "a[6:]"
   ]
  },
  {
   "cell_type": "code",
   "execution_count": null,
   "id": "ba3c4609-932b-46f8-afbe-dcb86c850f02",
   "metadata": {},
   "outputs": [],
   "source": [
    "a[2:8:2]  # 2 to 8 step by 2"
   ]
  },
  {
   "cell_type": "code",
   "execution_count": null,
   "id": "92dff308-1b18-4984-979b-28c945abc3cd",
   "metadata": {},
   "outputs": [],
   "source": [
    "a[2::2]   # 2 to last step by 2"
   ]
  },
  {
   "cell_type": "code",
   "execution_count": null,
   "id": "18fd9322-e7a2-4a2e-b30c-d82a85f23cda",
   "metadata": {},
   "outputs": [],
   "source": [
    "a[::3]    # step by 3"
   ]
  },
  {
   "cell_type": "code",
   "execution_count": 13,
   "id": "0d8497e3-8ff1-478f-aea3-59b5d8e7b9f2",
   "metadata": {},
   "outputs": [
    {
     "data": {
      "text/plain": [
       "(0, 25)"
      ]
     },
     "execution_count": 13,
     "metadata": {},
     "output_type": "execute_result"
    }
   ],
   "source": [
    "# index in a 2-d array\n",
    "a= np.arange(0,51,10).reshape(6,1) +np.arange(6)   # interesting example!\n",
    "a[0, 0], a[2, -1]"
   ]
  },
  {
   "cell_type": "code",
   "execution_count": null,
   "id": "894bc7e0-a8f5-4f0a-b034-717e8e195a8d",
   "metadata": {},
   "outputs": [],
   "source": [
    "a[0, 2:5]"
   ]
  },
  {
   "cell_type": "code",
   "execution_count": null,
   "id": "6ee5c13a-cec9-46ae-a46d-a255aed82106",
   "metadata": {},
   "outputs": [],
   "source": [
    "a[:3, 3:]"
   ]
  },
  {
   "cell_type": "code",
   "execution_count": null,
   "id": "9f467122-31d3-469b-af58-bcd1feb0e883",
   "metadata": {},
   "outputs": [],
   "source": [
    "a[2, :]"
   ]
  },
  {
   "cell_type": "code",
   "execution_count": null,
   "id": "3b467a05-9cc3-4b1b-b151-57ffb7c7d583",
   "metadata": {},
   "outputs": [],
   "source": [
    "a[2,:].shape  # transformed to column vector"
   ]
  },
  {
   "cell_type": "code",
   "execution_count": null,
   "id": "61dda07b-b46b-4fdd-9322-fda77c121fd2",
   "metadata": {},
   "outputs": [],
   "source": [
    "a[:, 3].shape # column vector"
   ]
  },
  {
   "cell_type": "code",
   "execution_count": null,
   "id": "dc481e66-f79b-4c06-abf0-f65995e5a220",
   "metadata": {},
   "outputs": [],
   "source": [
    "a[:, ::2]"
   ]
  },
  {
   "cell_type": "code",
   "execution_count": null,
   "id": "9def05be-588e-4e98-b559-45f5d47ca071",
   "metadata": {},
   "outputs": [],
   "source": [
    "a[::2, ::3]"
   ]
  },
  {
   "cell_type": "code",
   "execution_count": null,
   "id": "bc1ce00e-c8f9-4844-9963-c3573906626b",
   "metadata": {},
   "outputs": [],
   "source": [
    "# indexed by boolean array\n",
    "a=np.random.randint(10,20,6)  # 6 integer rand. number from 10 to 20\n",
    "a % 2 ==0"
   ]
  },
  {
   "cell_type": "code",
   "execution_count": null,
   "id": "124a8599-53e1-4a91-a50f-77ca7a7829c2",
   "metadata": {},
   "outputs": [],
   "source": [
    "a[a % 2 ==0]"
   ]
  },
  {
   "cell_type": "code",
   "execution_count": null,
   "id": "bf3487c2-d04b-4a8a-ad1c-ff3184b1a4e7",
   "metadata": {},
   "outputs": [],
   "source": [
    "# Numpy tends to arange array into column vector\n",
    "a=np.arange(0,51, 10).reshape(6,1) + np.arange(6)\n",
    "a[a % 2 ==0].shape"
   ]
  },
  {
   "cell_type": "code",
   "execution_count": null,
   "id": "7c42697a-8b27-47bc-835e-4ce9f70d622d",
   "metadata": {},
   "outputs": [],
   "source": [
    "b=a[a % 2 ==0]\n",
    "b[3]     # check index"
   ]
  },
  {
   "cell_type": "code",
   "execution_count": null,
   "id": "f8098253-5dc9-4116-a1b9-b686dfb0ddd4",
   "metadata": {},
   "outputs": [],
   "source": [
    "# Numpy share memory\n",
    "a=np.arange(6)\n",
    "b=a[2:5]"
   ]
  },
  {
   "cell_type": "code",
   "execution_count": null,
   "id": "347d922d-5a6b-42e1-b5ee-3e9d00791ae7",
   "metadata": {},
   "outputs": [],
   "source": [
    "b[1] = 100    # check a and b"
   ]
  },
  {
   "cell_type": "code",
   "execution_count": null,
   "id": "ebb0c479-45b0-4cab-b398-f87f6ce5e315",
   "metadata": {},
   "outputs": [],
   "source": [
    "np.may_share_memory(a,b)\n",
    "b=a[2:6].copy()"
   ]
  },
  {
   "cell_type": "code",
   "execution_count": null,
   "id": "fb60f32b-6502-47d2-8b02-85671483a103",
   "metadata": {},
   "outputs": [],
   "source": [
    "b[1]=3    # both don't share memory"
   ]
  }
 ],
 "metadata": {
  "kernelspec": {
   "display_name": "Python 3 (ipykernel)",
   "language": "python",
   "name": "python3"
  },
  "language_info": {
   "codemirror_mode": {
    "name": "ipython",
    "version": 3
   },
   "file_extension": ".py",
   "mimetype": "text/x-python",
   "name": "python",
   "nbconvert_exporter": "python",
   "pygments_lexer": "ipython3",
   "version": "3.11.7"
  }
 },
 "nbformat": 4,
 "nbformat_minor": 5
}
