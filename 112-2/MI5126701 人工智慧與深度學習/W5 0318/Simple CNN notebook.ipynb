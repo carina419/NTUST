{
 "cells": [
  {
   "cell_type": "markdown",
   "metadata": {
    "id": "enMTFuIbfAV-"
   },
   "source": [
    "程式4-1"
   ]
  },
  {
   "cell_type": "code",
   "execution_count": 1,
   "metadata": {
    "colab": {
     "base_uri": "https://localhost:8080/"
    },
    "executionInfo": {
     "elapsed": 13986,
     "status": "ok",
     "timestamp": 1693038640399,
     "user": {
      "displayName": "Tristan Chang",
      "userId": "01396821554749831700"
     },
     "user_tz": -480
    },
    "id": "lsETXDXf6Qq5",
    "outputId": "3bd8f788-d399-46ce-e827-279e885adfe7"
   },
   "outputs": [
    {
     "name": "stdout",
     "output_type": "stream",
     "text": [
      "mean:  120.70756512369792\n",
      "stddev:  64.1500758911213\n"
     ]
    }
   ],
   "source": [
    "import tensorflow as tf\n",
    "from tensorflow import keras\n",
    "from tensorflow.keras.utils import to_categorical\n",
    "from tensorflow.keras.models import Sequential\n",
    "from tensorflow.keras.layers import Dense\n",
    "from tensorflow.keras.layers import Flatten\n",
    "from tensorflow.keras.layers import Conv2D\n",
    "import numpy as np\n",
    "import logging\n",
    "tf.get_logger().setLevel(logging.ERROR)\n",
    "\n",
    "EPOCHS = 128\n",
    "BATCH_SIZE = 32\n",
    "\n",
    "# 載入 CIFAR-10 資料集\n",
    "cifar_dataset = keras.datasets.cifar10\n",
    "(train_images, train_labels), (test_images,\n",
    "    test_labels) = cifar_dataset.load_data()\n",
    "\n",
    "# 將資料集做標準化處理\n",
    "mean = np.mean(train_images)\n",
    "stddev = np.std(train_images)\n",
    "train_images = (train_images - mean) / stddev\n",
    "test_images = (test_images - mean) / stddev\n",
    "print('mean: ', mean)\n",
    "print('stddev: ', stddev)\n",
    "\n",
    "# 將標籤轉換為 one-hot 格式\n",
    "train_labels = to_categorical(train_labels,\n",
    "                              num_classes=10)\n",
    "test_labels = to_categorical(test_labels,\n",
    "                             num_classes=10)\n"
   ]
  },
  {
   "cell_type": "code",
   "execution_count": 5,
   "metadata": {},
   "outputs": [
    {
     "data": {
      "text/plain": [
       "(50000, 32, 32, 3)"
      ]
     },
     "execution_count": 5,
     "metadata": {},
     "output_type": "execute_result"
    }
   ],
   "source": [
    "train_images.shape"
   ]
  },
  {
   "cell_type": "markdown",
   "metadata": {
    "id": "lEMRVS9gfGkc"
   },
   "source": [
    "程式4-2"
   ]
  },
  {
   "cell_type": "code",
   "execution_count": 6,
   "metadata": {
    "colab": {
     "base_uri": "https://localhost:8080/"
    },
    "executionInfo": {
     "elapsed": 526,
     "status": "ok",
     "timestamp": 1693038640899,
     "user": {
      "displayName": "Tristan Chang",
      "userId": "01396821554749831700"
     },
     "user_tz": -480
    },
    "id": "B32V6VqT6Qq8",
    "outputId": "f91ba01f-0942-4e62-a1cc-66045554e7d3"
   },
   "outputs": [
    {
     "name": "stderr",
     "output_type": "stream",
     "text": [
      "C:\\Users\\USER\\anaconda3\\Lib\\site-packages\\keras\\src\\layers\\convolutional\\base_conv.py:99: UserWarning: Do not pass an `input_shape`/`input_dim` argument to a layer. When using Sequential models, prefer using an `Input(shape)` object as the first layer in the model instead.\n",
      "  super().__init__(\n"
     ]
    },
    {
     "data": {
      "text/html": [
       "<pre style=\"white-space:pre;overflow-x:auto;line-height:normal;font-family:Menlo,'DejaVu Sans Mono',consolas,'Courier New',monospace\"><span style=\"font-weight: bold\">Model: \"sequential\"</span>\n",
       "</pre>\n"
      ],
      "text/plain": [
       "\u001b[1mModel: \"sequential\"\u001b[0m\n"
      ]
     },
     "metadata": {},
     "output_type": "display_data"
    },
    {
     "data": {
      "text/html": [
       "<pre style=\"white-space:pre;overflow-x:auto;line-height:normal;font-family:Menlo,'DejaVu Sans Mono',consolas,'Courier New',monospace\">┏━━━━━━━━━━━━━━━━━━━━━━━━━━━━━━━━━━━━━━┳━━━━━━━━━━━━━━━━━━━━━━━━━━━━━┳━━━━━━━━━━━━━━━━━┓\n",
       "┃<span style=\"font-weight: bold\"> Layer (type)                         </span>┃<span style=\"font-weight: bold\"> Output Shape                </span>┃<span style=\"font-weight: bold\">         Param # </span>┃\n",
       "┡━━━━━━━━━━━━━━━━━━━━━━━━━━━━━━━━━━━━━━╇━━━━━━━━━━━━━━━━━━━━━━━━━━━━━╇━━━━━━━━━━━━━━━━━┩\n",
       "│ conv2d (<span style=\"color: #0087ff; text-decoration-color: #0087ff\">Conv2D</span>)                      │ (<span style=\"color: #00d7ff; text-decoration-color: #00d7ff\">None</span>, <span style=\"color: #00af00; text-decoration-color: #00af00\">14</span>, <span style=\"color: #00af00; text-decoration-color: #00af00\">14</span>, <span style=\"color: #00af00; text-decoration-color: #00af00\">64</span>)          │           <span style=\"color: #00af00; text-decoration-color: #00af00\">4,864</span> │\n",
       "├──────────────────────────────────────┼─────────────────────────────┼─────────────────┤\n",
       "│ conv2d_1 (<span style=\"color: #0087ff; text-decoration-color: #0087ff\">Conv2D</span>)                    │ (<span style=\"color: #00d7ff; text-decoration-color: #00d7ff\">None</span>, <span style=\"color: #00af00; text-decoration-color: #00af00\">7</span>, <span style=\"color: #00af00; text-decoration-color: #00af00\">7</span>, <span style=\"color: #00af00; text-decoration-color: #00af00\">64</span>)            │          <span style=\"color: #00af00; text-decoration-color: #00af00\">36,928</span> │\n",
       "├──────────────────────────────────────┼─────────────────────────────┼─────────────────┤\n",
       "│ flatten (<span style=\"color: #0087ff; text-decoration-color: #0087ff\">Flatten</span>)                    │ (<span style=\"color: #00d7ff; text-decoration-color: #00d7ff\">None</span>, <span style=\"color: #00af00; text-decoration-color: #00af00\">3136</span>)                │               <span style=\"color: #00af00; text-decoration-color: #00af00\">0</span> │\n",
       "├──────────────────────────────────────┼─────────────────────────────┼─────────────────┤\n",
       "│ dense (<span style=\"color: #0087ff; text-decoration-color: #0087ff\">Dense</span>)                        │ (<span style=\"color: #00d7ff; text-decoration-color: #00d7ff\">None</span>, <span style=\"color: #00af00; text-decoration-color: #00af00\">10</span>)                  │          <span style=\"color: #00af00; text-decoration-color: #00af00\">31,370</span> │\n",
       "└──────────────────────────────────────┴─────────────────────────────┴─────────────────┘\n",
       "</pre>\n"
      ],
      "text/plain": [
       "┏━━━━━━━━━━━━━━━━━━━━━━━━━━━━━━━━━━━━━━┳━━━━━━━━━━━━━━━━━━━━━━━━━━━━━┳━━━━━━━━━━━━━━━━━┓\n",
       "┃\u001b[1m \u001b[0m\u001b[1mLayer (type)                        \u001b[0m\u001b[1m \u001b[0m┃\u001b[1m \u001b[0m\u001b[1mOutput Shape               \u001b[0m\u001b[1m \u001b[0m┃\u001b[1m \u001b[0m\u001b[1m        Param #\u001b[0m\u001b[1m \u001b[0m┃\n",
       "┡━━━━━━━━━━━━━━━━━━━━━━━━━━━━━━━━━━━━━━╇━━━━━━━━━━━━━━━━━━━━━━━━━━━━━╇━━━━━━━━━━━━━━━━━┩\n",
       "│ conv2d (\u001b[38;5;33mConv2D\u001b[0m)                      │ (\u001b[38;5;45mNone\u001b[0m, \u001b[38;5;34m14\u001b[0m, \u001b[38;5;34m14\u001b[0m, \u001b[38;5;34m64\u001b[0m)          │           \u001b[38;5;34m4,864\u001b[0m │\n",
       "├──────────────────────────────────────┼─────────────────────────────┼─────────────────┤\n",
       "│ conv2d_1 (\u001b[38;5;33mConv2D\u001b[0m)                    │ (\u001b[38;5;45mNone\u001b[0m, \u001b[38;5;34m7\u001b[0m, \u001b[38;5;34m7\u001b[0m, \u001b[38;5;34m64\u001b[0m)            │          \u001b[38;5;34m36,928\u001b[0m │\n",
       "├──────────────────────────────────────┼─────────────────────────────┼─────────────────┤\n",
       "│ flatten (\u001b[38;5;33mFlatten\u001b[0m)                    │ (\u001b[38;5;45mNone\u001b[0m, \u001b[38;5;34m3136\u001b[0m)                │               \u001b[38;5;34m0\u001b[0m │\n",
       "├──────────────────────────────────────┼─────────────────────────────┼─────────────────┤\n",
       "│ dense (\u001b[38;5;33mDense\u001b[0m)                        │ (\u001b[38;5;45mNone\u001b[0m, \u001b[38;5;34m10\u001b[0m)                  │          \u001b[38;5;34m31,370\u001b[0m │\n",
       "└──────────────────────────────────────┴─────────────────────────────┴─────────────────┘\n"
      ]
     },
     "metadata": {},
     "output_type": "display_data"
    },
    {
     "data": {
      "text/html": [
       "<pre style=\"white-space:pre;overflow-x:auto;line-height:normal;font-family:Menlo,'DejaVu Sans Mono',consolas,'Courier New',monospace\"><span style=\"font-weight: bold\"> Total params: </span><span style=\"color: #00af00; text-decoration-color: #00af00\">73,162</span> (285.79 KB)\n",
       "</pre>\n"
      ],
      "text/plain": [
       "\u001b[1m Total params: \u001b[0m\u001b[38;5;34m73,162\u001b[0m (285.79 KB)\n"
      ]
     },
     "metadata": {},
     "output_type": "display_data"
    },
    {
     "data": {
      "text/html": [
       "<pre style=\"white-space:pre;overflow-x:auto;line-height:normal;font-family:Menlo,'DejaVu Sans Mono',consolas,'Courier New',monospace\"><span style=\"font-weight: bold\"> Trainable params: </span><span style=\"color: #00af00; text-decoration-color: #00af00\">73,162</span> (285.79 KB)\n",
       "</pre>\n"
      ],
      "text/plain": [
       "\u001b[1m Trainable params: \u001b[0m\u001b[38;5;34m73,162\u001b[0m (285.79 KB)\n"
      ]
     },
     "metadata": {},
     "output_type": "display_data"
    },
    {
     "data": {
      "text/html": [
       "<pre style=\"white-space:pre;overflow-x:auto;line-height:normal;font-family:Menlo,'DejaVu Sans Mono',consolas,'Courier New',monospace\"><span style=\"font-weight: bold\"> Non-trainable params: </span><span style=\"color: #00af00; text-decoration-color: #00af00\">0</span> (0.00 B)\n",
       "</pre>\n"
      ],
      "text/plain": [
       "\u001b[1m Non-trainable params: \u001b[0m\u001b[38;5;34m0\u001b[0m (0.00 B)\n"
      ]
     },
     "metadata": {},
     "output_type": "display_data"
    }
   ],
   "source": [
    "# 在模型中加入雙卷積層與一密集層\n",
    "model = Sequential()\n",
    "model.add(Conv2D(64, (5, 5), strides=(2,2),\n",
    "                 activation='relu',\n",
    "                 input_shape=(32, 32, 3),\n",
    "                 kernel_initializer='he_normal',\n",
    "                 bias_initializer='zeros'))\n",
    "model.add(Conv2D(64, (3, 3), strides=(2,2),\n",
    "                 activation='relu', padding='same',\n",
    "                 kernel_initializer='he_normal',\n",
    "                 bias_initializer='zeros'))\n",
    "model.add(Flatten())\n",
    "model.add(Dense(10, activation='softmax',\n",
    "                kernel_initializer='glorot_uniform',\n",
    "                bias_initializer='zeros'))\n",
    "\n",
    "model.compile(loss='categorical_crossentropy',\n",
    "              optimizer='adam', metrics =['accuracy'])\n",
    "model.summary()\n"
   ]
  },
  {
   "cell_type": "markdown",
   "metadata": {
    "id": "QCwHg0hBfKSv"
   },
   "source": [
    "程式4-3"
   ]
  },
  {
   "cell_type": "code",
   "execution_count": 7,
   "metadata": {
    "colab": {
     "base_uri": "https://localhost:8080/"
    },
    "executionInfo": {
     "elapsed": 3054769,
     "status": "ok",
     "timestamp": 1693043081952,
     "user": {
      "displayName": "Tristan Chang",
      "userId": "01396821554749831700"
     },
     "user_tz": -480
    },
    "id": "T2Hmr9OY6Qq9",
    "outputId": "a66ff026-8353-48b9-c1ae-8a104363faf2"
   },
   "outputs": [
    {
     "name": "stdout",
     "output_type": "stream",
     "text": [
      "Epoch 1/128\n",
      "1563/1563 - 7s - 4ms/step - accuracy: 0.4930 - loss: 1.4385 - val_accuracy: 0.5833 - val_loss: 1.1802\n",
      "Epoch 2/128\n",
      "1563/1563 - 5s - 3ms/step - accuracy: 0.6187 - loss: 1.0923 - val_accuracy: 0.6229 - val_loss: 1.0959\n",
      "Epoch 3/128\n",
      "1563/1563 - 5s - 3ms/step - accuracy: 0.6712 - loss: 0.9485 - val_accuracy: 0.6419 - val_loss: 1.0460\n",
      "Epoch 4/128\n",
      "1563/1563 - 5s - 3ms/step - accuracy: 0.7065 - loss: 0.8450 - val_accuracy: 0.6466 - val_loss: 1.0527\n",
      "Epoch 5/128\n",
      "1563/1563 - 5s - 3ms/step - accuracy: 0.7331 - loss: 0.7693 - val_accuracy: 0.6391 - val_loss: 1.0833\n",
      "Epoch 6/128\n",
      "1563/1563 - 5s - 3ms/step - accuracy: 0.7560 - loss: 0.7026 - val_accuracy: 0.6482 - val_loss: 1.1200\n",
      "Epoch 7/128\n",
      "1563/1563 - 5s - 3ms/step - accuracy: 0.7733 - loss: 0.6482 - val_accuracy: 0.6435 - val_loss: 1.1301\n",
      "Epoch 8/128\n",
      "1563/1563 - 5s - 3ms/step - accuracy: 0.7875 - loss: 0.6038 - val_accuracy: 0.6461 - val_loss: 1.1728\n",
      "Epoch 9/128\n",
      "1563/1563 - 5s - 3ms/step - accuracy: 0.8053 - loss: 0.5522 - val_accuracy: 0.6404 - val_loss: 1.2328\n",
      "Epoch 10/128\n",
      "1563/1563 - 5s - 3ms/step - accuracy: 0.8164 - loss: 0.5154 - val_accuracy: 0.6329 - val_loss: 1.3056\n",
      "Epoch 11/128\n",
      "1563/1563 - 5s - 3ms/step - accuracy: 0.8298 - loss: 0.4799 - val_accuracy: 0.6356 - val_loss: 1.3457\n",
      "Epoch 12/128\n",
      "1563/1563 - 5s - 3ms/step - accuracy: 0.8410 - loss: 0.4497 - val_accuracy: 0.6368 - val_loss: 1.4004\n",
      "Epoch 13/128\n",
      "1563/1563 - 5s - 3ms/step - accuracy: 0.8491 - loss: 0.4192 - val_accuracy: 0.6347 - val_loss: 1.4692\n",
      "Epoch 14/128\n",
      "1563/1563 - 5s - 3ms/step - accuracy: 0.8600 - loss: 0.3906 - val_accuracy: 0.6300 - val_loss: 1.5582\n",
      "Epoch 15/128\n",
      "1563/1563 - 5s - 3ms/step - accuracy: 0.8703 - loss: 0.3617 - val_accuracy: 0.6273 - val_loss: 1.6323\n",
      "Epoch 16/128\n",
      "1563/1563 - 5s - 3ms/step - accuracy: 0.8732 - loss: 0.3506 - val_accuracy: 0.6226 - val_loss: 1.7118\n",
      "Epoch 17/128\n",
      "1563/1563 - 5s - 3ms/step - accuracy: 0.8823 - loss: 0.3258 - val_accuracy: 0.6215 - val_loss: 1.7902\n",
      "Epoch 18/128\n",
      "1563/1563 - 5s - 3ms/step - accuracy: 0.8893 - loss: 0.3042 - val_accuracy: 0.6187 - val_loss: 1.9103\n",
      "Epoch 19/128\n",
      "1563/1563 - 5s - 3ms/step - accuracy: 0.8963 - loss: 0.2896 - val_accuracy: 0.6241 - val_loss: 1.9598\n",
      "Epoch 20/128\n",
      "1563/1563 - 5s - 3ms/step - accuracy: 0.9004 - loss: 0.2754 - val_accuracy: 0.6252 - val_loss: 2.1065\n",
      "Epoch 21/128\n",
      "1563/1563 - 5s - 3ms/step - accuracy: 0.9030 - loss: 0.2665 - val_accuracy: 0.6142 - val_loss: 2.1404\n",
      "Epoch 22/128\n",
      "1563/1563 - 5s - 3ms/step - accuracy: 0.9087 - loss: 0.2464 - val_accuracy: 0.6227 - val_loss: 2.2326\n",
      "Epoch 23/128\n",
      "1563/1563 - 5s - 3ms/step - accuracy: 0.9115 - loss: 0.2412 - val_accuracy: 0.6190 - val_loss: 2.3718\n",
      "Epoch 24/128\n",
      "1563/1563 - 5s - 3ms/step - accuracy: 0.9186 - loss: 0.2232 - val_accuracy: 0.6121 - val_loss: 2.4706\n",
      "Epoch 25/128\n",
      "1563/1563 - 5s - 3ms/step - accuracy: 0.9207 - loss: 0.2212 - val_accuracy: 0.6158 - val_loss: 2.5351\n",
      "Epoch 26/128\n",
      "1563/1563 - 5s - 3ms/step - accuracy: 0.9230 - loss: 0.2133 - val_accuracy: 0.6088 - val_loss: 2.6252\n",
      "Epoch 27/128\n",
      "1563/1563 - 5s - 3ms/step - accuracy: 0.9291 - loss: 0.1977 - val_accuracy: 0.6241 - val_loss: 2.7225\n",
      "Epoch 28/128\n",
      "1563/1563 - 5s - 3ms/step - accuracy: 0.9284 - loss: 0.1990 - val_accuracy: 0.6188 - val_loss: 2.7755\n",
      "Epoch 29/128\n",
      "1563/1563 - 5s - 3ms/step - accuracy: 0.9294 - loss: 0.1960 - val_accuracy: 0.6174 - val_loss: 2.8312\n",
      "Epoch 30/128\n",
      "1563/1563 - 5s - 3ms/step - accuracy: 0.9353 - loss: 0.1853 - val_accuracy: 0.6068 - val_loss: 3.0230\n",
      "Epoch 31/128\n",
      "1563/1563 - 5s - 3ms/step - accuracy: 0.9320 - loss: 0.1918 - val_accuracy: 0.6132 - val_loss: 2.9901\n",
      "Epoch 32/128\n",
      "1563/1563 - 5s - 3ms/step - accuracy: 0.9356 - loss: 0.1792 - val_accuracy: 0.6101 - val_loss: 3.2025\n",
      "Epoch 33/128\n",
      "1563/1563 - 5s - 3ms/step - accuracy: 0.9389 - loss: 0.1735 - val_accuracy: 0.6073 - val_loss: 3.2826\n",
      "Epoch 34/128\n",
      "1563/1563 - 5s - 3ms/step - accuracy: 0.9387 - loss: 0.1746 - val_accuracy: 0.6158 - val_loss: 3.3928\n",
      "Epoch 35/128\n",
      "1563/1563 - 5s - 3ms/step - accuracy: 0.9392 - loss: 0.1738 - val_accuracy: 0.6088 - val_loss: 3.4171\n",
      "Epoch 36/128\n",
      "1563/1563 - 5s - 3ms/step - accuracy: 0.9429 - loss: 0.1645 - val_accuracy: 0.6084 - val_loss: 3.5093\n",
      "Epoch 37/128\n",
      "1563/1563 - 5s - 3ms/step - accuracy: 0.9439 - loss: 0.1642 - val_accuracy: 0.6129 - val_loss: 3.7190\n",
      "Epoch 38/128\n",
      "1563/1563 - 5s - 3ms/step - accuracy: 0.9430 - loss: 0.1681 - val_accuracy: 0.6142 - val_loss: 3.6546\n",
      "Epoch 39/128\n",
      "1563/1563 - 5s - 3ms/step - accuracy: 0.9465 - loss: 0.1587 - val_accuracy: 0.6034 - val_loss: 3.7159\n",
      "Epoch 40/128\n",
      "1563/1563 - 5s - 3ms/step - accuracy: 0.9473 - loss: 0.1535 - val_accuracy: 0.6134 - val_loss: 3.8441\n",
      "Epoch 41/128\n",
      "1563/1563 - 5s - 3ms/step - accuracy: 0.9460 - loss: 0.1589 - val_accuracy: 0.6031 - val_loss: 3.9725\n",
      "Epoch 42/128\n",
      "1563/1563 - 5s - 3ms/step - accuracy: 0.9499 - loss: 0.1481 - val_accuracy: 0.6020 - val_loss: 4.0979\n",
      "Epoch 43/128\n",
      "1563/1563 - 5s - 3ms/step - accuracy: 0.9468 - loss: 0.1576 - val_accuracy: 0.6028 - val_loss: 4.1897\n",
      "Epoch 44/128\n",
      "1563/1563 - 5s - 3ms/step - accuracy: 0.9479 - loss: 0.1536 - val_accuracy: 0.6044 - val_loss: 4.2288\n",
      "Epoch 45/128\n",
      "1563/1563 - 5s - 3ms/step - accuracy: 0.9529 - loss: 0.1436 - val_accuracy: 0.6130 - val_loss: 4.2519\n",
      "Epoch 46/128\n",
      "1563/1563 - 5s - 3ms/step - accuracy: 0.9511 - loss: 0.1493 - val_accuracy: 0.6076 - val_loss: 4.3225\n",
      "Epoch 47/128\n",
      "1563/1563 - 5s - 3ms/step - accuracy: 0.9496 - loss: 0.1587 - val_accuracy: 0.6071 - val_loss: 4.3764\n",
      "Epoch 48/128\n",
      "1563/1563 - 5s - 3ms/step - accuracy: 0.9503 - loss: 0.1531 - val_accuracy: 0.6047 - val_loss: 4.6286\n",
      "Epoch 49/128\n",
      "1563/1563 - 5s - 3ms/step - accuracy: 0.9519 - loss: 0.1514 - val_accuracy: 0.6018 - val_loss: 4.6245\n",
      "Epoch 50/128\n",
      "1563/1563 - 5s - 3ms/step - accuracy: 0.9526 - loss: 0.1505 - val_accuracy: 0.6072 - val_loss: 4.7107\n",
      "Epoch 51/128\n",
      "1563/1563 - 5s - 3ms/step - accuracy: 0.9530 - loss: 0.1462 - val_accuracy: 0.6063 - val_loss: 4.7025\n",
      "Epoch 52/128\n",
      "1563/1563 - 5s - 3ms/step - accuracy: 0.9537 - loss: 0.1463 - val_accuracy: 0.6032 - val_loss: 4.8858\n",
      "Epoch 53/128\n",
      "1563/1563 - 5s - 3ms/step - accuracy: 0.9544 - loss: 0.1457 - val_accuracy: 0.6098 - val_loss: 4.9625\n",
      "Epoch 54/128\n",
      "1563/1563 - 5s - 3ms/step - accuracy: 0.9548 - loss: 0.1463 - val_accuracy: 0.6054 - val_loss: 4.9617\n",
      "Epoch 55/128\n",
      "1563/1563 - 5s - 3ms/step - accuracy: 0.9535 - loss: 0.1490 - val_accuracy: 0.6084 - val_loss: 5.1265\n",
      "Epoch 56/128\n",
      "1563/1563 - 5s - 3ms/step - accuracy: 0.9539 - loss: 0.1511 - val_accuracy: 0.6095 - val_loss: 5.2728\n",
      "Epoch 57/128\n",
      "1563/1563 - 5s - 3ms/step - accuracy: 0.9546 - loss: 0.1487 - val_accuracy: 0.6081 - val_loss: 5.1986\n",
      "Epoch 58/128\n",
      "1563/1563 - 5s - 3ms/step - accuracy: 0.9591 - loss: 0.1328 - val_accuracy: 0.6055 - val_loss: 5.4300\n",
      "Epoch 59/128\n",
      "1563/1563 - 5s - 3ms/step - accuracy: 0.9592 - loss: 0.1384 - val_accuracy: 0.6071 - val_loss: 5.5044\n",
      "Epoch 60/128\n",
      "1563/1563 - 5s - 3ms/step - accuracy: 0.9585 - loss: 0.1377 - val_accuracy: 0.6106 - val_loss: 5.4490\n",
      "Epoch 61/128\n",
      "1563/1563 - 5s - 3ms/step - accuracy: 0.9551 - loss: 0.1521 - val_accuracy: 0.6051 - val_loss: 5.5397\n",
      "Epoch 62/128\n",
      "1563/1563 - 5s - 3ms/step - accuracy: 0.9591 - loss: 0.1439 - val_accuracy: 0.6069 - val_loss: 5.5676\n",
      "Epoch 63/128\n",
      "1563/1563 - 5s - 3ms/step - accuracy: 0.9574 - loss: 0.1469 - val_accuracy: 0.6125 - val_loss: 5.8812\n",
      "Epoch 64/128\n",
      "1563/1563 - 5s - 3ms/step - accuracy: 0.9625 - loss: 0.1298 - val_accuracy: 0.6075 - val_loss: 5.9093\n",
      "Epoch 65/128\n",
      "1563/1563 - 5s - 3ms/step - accuracy: 0.9568 - loss: 0.1517 - val_accuracy: 0.6020 - val_loss: 5.8861\n",
      "Epoch 66/128\n",
      "1563/1563 - 5s - 3ms/step - accuracy: 0.9577 - loss: 0.1491 - val_accuracy: 0.6111 - val_loss: 5.8361\n",
      "Epoch 67/128\n",
      "1563/1563 - 5s - 3ms/step - accuracy: 0.9606 - loss: 0.1407 - val_accuracy: 0.6058 - val_loss: 6.1893\n",
      "Epoch 68/128\n",
      "1563/1563 - 5s - 3ms/step - accuracy: 0.9604 - loss: 0.1422 - val_accuracy: 0.6060 - val_loss: 6.1269\n",
      "Epoch 69/128\n",
      "1563/1563 - 5s - 3ms/step - accuracy: 0.9600 - loss: 0.1413 - val_accuracy: 0.6127 - val_loss: 6.3048\n",
      "Epoch 70/128\n",
      "1563/1563 - 5s - 3ms/step - accuracy: 0.9604 - loss: 0.1453 - val_accuracy: 0.6092 - val_loss: 6.1783\n",
      "Epoch 71/128\n",
      "1563/1563 - 5s - 3ms/step - accuracy: 0.9598 - loss: 0.1473 - val_accuracy: 0.6058 - val_loss: 6.4818\n",
      "Epoch 72/128\n",
      "1563/1563 - 5s - 3ms/step - accuracy: 0.9618 - loss: 0.1423 - val_accuracy: 0.6090 - val_loss: 6.6344\n",
      "Epoch 73/128\n",
      "1563/1563 - 5s - 3ms/step - accuracy: 0.9621 - loss: 0.1420 - val_accuracy: 0.6038 - val_loss: 6.5222\n",
      "Epoch 74/128\n",
      "1563/1563 - 5s - 3ms/step - accuracy: 0.9641 - loss: 0.1314 - val_accuracy: 0.6063 - val_loss: 6.5319\n",
      "Epoch 75/128\n",
      "1563/1563 - 5s - 3ms/step - accuracy: 0.9615 - loss: 0.1434 - val_accuracy: 0.6006 - val_loss: 6.9723\n",
      "Epoch 76/128\n",
      "1563/1563 - 5s - 3ms/step - accuracy: 0.9610 - loss: 0.1526 - val_accuracy: 0.6000 - val_loss: 6.8853\n",
      "Epoch 77/128\n",
      "1563/1563 - 5s - 3ms/step - accuracy: 0.9633 - loss: 0.1433 - val_accuracy: 0.6069 - val_loss: 7.0060\n",
      "Epoch 78/128\n",
      "1563/1563 - 5s - 3ms/step - accuracy: 0.9666 - loss: 0.1267 - val_accuracy: 0.6044 - val_loss: 7.0351\n",
      "Epoch 79/128\n",
      "1563/1563 - 5s - 3ms/step - accuracy: 0.9601 - loss: 0.1582 - val_accuracy: 0.6072 - val_loss: 6.9195\n",
      "Epoch 80/128\n",
      "1563/1563 - 5s - 3ms/step - accuracy: 0.9664 - loss: 0.1288 - val_accuracy: 0.6030 - val_loss: 7.1794\n",
      "Epoch 81/128\n",
      "1563/1563 - 5s - 3ms/step - accuracy: 0.9648 - loss: 0.1370 - val_accuracy: 0.6093 - val_loss: 7.2276\n",
      "Epoch 82/128\n",
      "1563/1563 - 5s - 3ms/step - accuracy: 0.9640 - loss: 0.1433 - val_accuracy: 0.6085 - val_loss: 7.4895\n",
      "Epoch 83/128\n",
      "1563/1563 - 5s - 3ms/step - accuracy: 0.9647 - loss: 0.1421 - val_accuracy: 0.6086 - val_loss: 7.4997\n",
      "Epoch 84/128\n",
      "1563/1563 - 5s - 3ms/step - accuracy: 0.9650 - loss: 0.1413 - val_accuracy: 0.6106 - val_loss: 7.4818\n",
      "Epoch 85/128\n",
      "1563/1563 - 5s - 3ms/step - accuracy: 0.9642 - loss: 0.1436 - val_accuracy: 0.6088 - val_loss: 7.6518\n",
      "Epoch 86/128\n",
      "1563/1563 - 5s - 3ms/step - accuracy: 0.9638 - loss: 0.1467 - val_accuracy: 0.6007 - val_loss: 7.7862\n",
      "Epoch 87/128\n",
      "1563/1563 - 5s - 3ms/step - accuracy: 0.9655 - loss: 0.1346 - val_accuracy: 0.6081 - val_loss: 7.6191\n",
      "Epoch 88/128\n",
      "1563/1563 - 5s - 3ms/step - accuracy: 0.9659 - loss: 0.1384 - val_accuracy: 0.6044 - val_loss: 7.9288\n",
      "Epoch 89/128\n",
      "1563/1563 - 5s - 3ms/step - accuracy: 0.9667 - loss: 0.1332 - val_accuracy: 0.6030 - val_loss: 7.8935\n",
      "Epoch 90/128\n",
      "1563/1563 - 5s - 3ms/step - accuracy: 0.9630 - loss: 0.1567 - val_accuracy: 0.6058 - val_loss: 7.9409\n",
      "Epoch 91/128\n",
      "1563/1563 - 5s - 3ms/step - accuracy: 0.9687 - loss: 0.1304 - val_accuracy: 0.6085 - val_loss: 8.1307\n",
      "Epoch 92/128\n",
      "1563/1563 - 5s - 3ms/step - accuracy: 0.9675 - loss: 0.1316 - val_accuracy: 0.6086 - val_loss: 8.3572\n",
      "Epoch 93/128\n",
      "1563/1563 - 5s - 3ms/step - accuracy: 0.9658 - loss: 0.1471 - val_accuracy: 0.6098 - val_loss: 8.5868\n",
      "Epoch 94/128\n",
      "1563/1563 - 5s - 3ms/step - accuracy: 0.9677 - loss: 0.1425 - val_accuracy: 0.6022 - val_loss: 8.6280\n",
      "Epoch 95/128\n",
      "1563/1563 - 5s - 3ms/step - accuracy: 0.9676 - loss: 0.1417 - val_accuracy: 0.6106 - val_loss: 8.5603\n",
      "Epoch 96/128\n",
      "1563/1563 - 5s - 3ms/step - accuracy: 0.9679 - loss: 0.1450 - val_accuracy: 0.6057 - val_loss: 8.6835\n",
      "Epoch 97/128\n",
      "1563/1563 - 5s - 3ms/step - accuracy: 0.9671 - loss: 0.1483 - val_accuracy: 0.6027 - val_loss: 8.5254\n",
      "Epoch 98/128\n",
      "1563/1563 - 5s - 3ms/step - accuracy: 0.9680 - loss: 0.1445 - val_accuracy: 0.6091 - val_loss: 8.8538\n",
      "Epoch 99/128\n",
      "1563/1563 - 5s - 3ms/step - accuracy: 0.9685 - loss: 0.1422 - val_accuracy: 0.5979 - val_loss: 8.7998\n",
      "Epoch 100/128\n",
      "1563/1563 - 5s - 3ms/step - accuracy: 0.9671 - loss: 0.1425 - val_accuracy: 0.6060 - val_loss: 9.1501\n",
      "Epoch 101/128\n",
      "1563/1563 - 5s - 3ms/step - accuracy: 0.9685 - loss: 0.1409 - val_accuracy: 0.6068 - val_loss: 9.0263\n",
      "Epoch 102/128\n",
      "1563/1563 - 5s - 3ms/step - accuracy: 0.9685 - loss: 0.1439 - val_accuracy: 0.6088 - val_loss: 9.3476\n",
      "Epoch 103/128\n",
      "1563/1563 - 5s - 3ms/step - accuracy: 0.9684 - loss: 0.1363 - val_accuracy: 0.6076 - val_loss: 9.2785\n",
      "Epoch 104/128\n",
      "1563/1563 - 5s - 3ms/step - accuracy: 0.9704 - loss: 0.1372 - val_accuracy: 0.6083 - val_loss: 9.5187\n",
      "Epoch 105/128\n",
      "1563/1563 - 5s - 3ms/step - accuracy: 0.9682 - loss: 0.1562 - val_accuracy: 0.6057 - val_loss: 9.3214\n",
      "Epoch 106/128\n",
      "1563/1563 - 5s - 3ms/step - accuracy: 0.9680 - loss: 0.1497 - val_accuracy: 0.6132 - val_loss: 9.5151\n",
      "Epoch 107/128\n",
      "1563/1563 - 5s - 3ms/step - accuracy: 0.9696 - loss: 0.1487 - val_accuracy: 0.6130 - val_loss: 9.5744\n",
      "Epoch 108/128\n",
      "1563/1563 - 5s - 3ms/step - accuracy: 0.9686 - loss: 0.1490 - val_accuracy: 0.6100 - val_loss: 9.6610\n",
      "Epoch 109/128\n",
      "1563/1563 - 5s - 3ms/step - accuracy: 0.9695 - loss: 0.1393 - val_accuracy: 0.6116 - val_loss: 9.9155\n",
      "Epoch 110/128\n",
      "1563/1563 - 5s - 3ms/step - accuracy: 0.9703 - loss: 0.1500 - val_accuracy: 0.5988 - val_loss: 9.7195\n",
      "Epoch 111/128\n",
      "1563/1563 - 5s - 3ms/step - accuracy: 0.9697 - loss: 0.1446 - val_accuracy: 0.6094 - val_loss: 9.9470\n",
      "Epoch 112/128\n",
      "1563/1563 - 5s - 3ms/step - accuracy: 0.9699 - loss: 0.1495 - val_accuracy: 0.6076 - val_loss: 10.2557\n",
      "Epoch 113/128\n",
      "1563/1563 - 5s - 3ms/step - accuracy: 0.9702 - loss: 0.1456 - val_accuracy: 0.6061 - val_loss: 9.9891\n",
      "Epoch 114/128\n",
      "1563/1563 - 5s - 3ms/step - accuracy: 0.9713 - loss: 0.1389 - val_accuracy: 0.6089 - val_loss: 10.5271\n",
      "Epoch 115/128\n",
      "1563/1563 - 5s - 3ms/step - accuracy: 0.9689 - loss: 0.1537 - val_accuracy: 0.6120 - val_loss: 10.3956\n",
      "Epoch 116/128\n",
      "1563/1563 - 5s - 3ms/step - accuracy: 0.9708 - loss: 0.1442 - val_accuracy: 0.6012 - val_loss: 10.8642\n",
      "Epoch 117/128\n",
      "1563/1563 - 5s - 3ms/step - accuracy: 0.9711 - loss: 0.1470 - val_accuracy: 0.6053 - val_loss: 10.7244\n",
      "Epoch 118/128\n",
      "1563/1563 - 5s - 3ms/step - accuracy: 0.9685 - loss: 0.1608 - val_accuracy: 0.6071 - val_loss: 10.7723\n",
      "Epoch 119/128\n",
      "1563/1563 - 5s - 3ms/step - accuracy: 0.9730 - loss: 0.1370 - val_accuracy: 0.6080 - val_loss: 10.9044\n",
      "Epoch 120/128\n",
      "1563/1563 - 5s - 3ms/step - accuracy: 0.9720 - loss: 0.1421 - val_accuracy: 0.6057 - val_loss: 11.0527\n",
      "Epoch 121/128\n",
      "1563/1563 - 5s - 3ms/step - accuracy: 0.9722 - loss: 0.1431 - val_accuracy: 0.6106 - val_loss: 11.1448\n",
      "Epoch 122/128\n",
      "1563/1563 - 5s - 3ms/step - accuracy: 0.9700 - loss: 0.1591 - val_accuracy: 0.6037 - val_loss: 10.7738\n",
      "Epoch 123/128\n",
      "1563/1563 - 5s - 3ms/step - accuracy: 0.9749 - loss: 0.1236 - val_accuracy: 0.6087 - val_loss: 11.3816\n",
      "Epoch 124/128\n",
      "1563/1563 - 5s - 3ms/step - accuracy: 0.9720 - loss: 0.1474 - val_accuracy: 0.6051 - val_loss: 11.3784\n",
      "Epoch 125/128\n",
      "1563/1563 - 5s - 3ms/step - accuracy: 0.9702 - loss: 0.1607 - val_accuracy: 0.6073 - val_loss: 11.6170\n",
      "Epoch 126/128\n",
      "1563/1563 - 5s - 3ms/step - accuracy: 0.9718 - loss: 0.1461 - val_accuracy: 0.6003 - val_loss: 11.6642\n",
      "Epoch 127/128\n",
      "1563/1563 - 5s - 3ms/step - accuracy: 0.9715 - loss: 0.1488 - val_accuracy: 0.6105 - val_loss: 11.6369\n",
      "Epoch 128/128\n",
      "1563/1563 - 5s - 3ms/step - accuracy: 0.9733 - loss: 0.1464 - val_accuracy: 0.6084 - val_loss: 11.6205\n"
     ]
    }
   ],
   "source": [
    "history = model.fit(\n",
    "    train_images, train_labels, validation_data =\n",
    "    (test_images, test_labels), epochs=EPOCHS,\n",
    "    batch_size=BATCH_SIZE, verbose=2, shuffle=True)\n"
   ]
  },
  {
   "cell_type": "markdown",
   "metadata": {
    "id": "piIk-DNGFlFZ"
   },
   "source": [
    "程式 4-4 (繪製訓練結果)"
   ]
  },
  {
   "cell_type": "code",
   "execution_count": 8,
   "metadata": {
    "id": "FoVtdupGFX73"
   },
   "outputs": [
    {
     "data": {
      "image/png": "[encoded data removed]",
      "text/plain": [
       "<Figure size 1000x500 with 1 Axes>"
      ]
     },
     "metadata": {},
     "output_type": "display_data"
    }
   ],
   "source": [
    "import matplotlib.pyplot as plt #匯入 Python 的 matplotlib繪圖套件來畫圖\n",
    "\n",
    "#讀取 model.fit() 所產生的 history 資料\n",
    "train_loss = history.history['loss']\n",
    "val_loss = history.history['val_loss']\n",
    "\n",
    "\n",
    "#繪製每週期的train error 以及 test error\n",
    "epochs_range = range(1, EPOCHS + 1)\n",
    "\n",
    "plt.figure(figsize=(10, 5))\n",
    "plt.plot(epochs_range, train_loss, label='Train Loss')\n",
    "plt.plot(epochs_range, val_loss, label='Test Loss')\n",
    "plt.xlabel('Epochs')\n",
    "plt.ylabel('Error')\n",
    "plt.title('Training and Test Error')\n",
    "plt.legend()\n",
    "plt.grid()\n",
    "plt.show()\n"
   ]
  }
 ],
 "metadata": {
  "colab": {
   "provenance": []
  },
  "kernelspec": {
   "display_name": "Python 3 (ipykernel)",
   "language": "python",
   "name": "python3"
  },
  "language_info": {
   "codemirror_mode": {
    "name": "ipython",
    "version": 3
   },
   "file_extension": ".py",
   "mimetype": "text/x-python",
   "name": "python",
   "nbconvert_exporter": "python",
   "pygments_lexer": "ipython3",
   "version": "3.11.7"
  }
 },
 "nbformat": 4,
 "nbformat_minor": 4
}
